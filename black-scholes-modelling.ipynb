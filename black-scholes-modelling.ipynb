{
 "cells": [
  {
   "cell_type": "markdown",
   "id": "af26033a",
   "metadata": {
    "papermill": {
     "duration": 0.003013,
     "end_time": "2025-01-03T11:47:09.519985",
     "exception": false,
     "start_time": "2025-01-03T11:47:09.516972",
     "status": "completed"
    },
    "tags": []
   },
   "source": [
    "# README\n",
    "The aim of this notebook is to build a Black-Scholes class to explain theoretical questions I have about options. In particular, I want to especially explore how an option's P&L is affected by realised vs implied volatility. This paper by Paul Wilmott dives into the details: http://spekulant.com.pl/article/Delta%20Hedging/Which%20Free%20Lunch%20Would%20You%20Like%20TodaySir%20DeltaHedgingVolatility.pdf\n",
    "\n",
    "This info can ultimately be used in a trading strategy on QuantConnect."
   ]
  },
  {
   "cell_type": "markdown",
   "id": "d89fc0db",
   "metadata": {
    "papermill": {
     "duration": 0.002327,
     "end_time": "2025-01-03T11:47:09.525229",
     "exception": false,
     "start_time": "2025-01-03T11:47:09.522902",
     "status": "completed"
    },
    "tags": []
   },
   "source": [
    "# Imports"
   ]
  },
  {
   "cell_type": "code",
   "execution_count": 1,
   "id": "8b7f06d6",
   "metadata": {
    "execution": {
     "iopub.execute_input": "2025-01-03T11:47:09.530973Z",
     "iopub.status.busy": "2025-01-03T11:47:09.530557Z",
     "iopub.status.idle": "2025-01-03T11:47:10.693062Z",
     "shell.execute_reply": "2025-01-03T11:47:10.692175Z"
    },
    "papermill": {
     "duration": 1.167399,
     "end_time": "2025-01-03T11:47:10.694891",
     "exception": false,
     "start_time": "2025-01-03T11:47:09.527492",
     "status": "completed"
    },
    "tags": []
   },
   "outputs": [],
   "source": [
    "import math\n",
    "from scipy.stats import norm"
   ]
  },
  {
   "cell_type": "markdown",
   "id": "1f3858cc",
   "metadata": {
    "papermill": {
     "duration": 0.002067,
     "end_time": "2025-01-03T11:47:10.699523",
     "exception": false,
     "start_time": "2025-01-03T11:47:10.697456",
     "status": "completed"
    },
    "tags": []
   },
   "source": [
    "# Black-Scholes Class"
   ]
  },
  {
   "cell_type": "markdown",
   "id": "96be6fa7",
   "metadata": {
    "papermill": {
     "duration": 0.001941,
     "end_time": "2025-01-03T11:47:10.703769",
     "exception": false,
     "start_time": "2025-01-03T11:47:10.701828",
     "status": "completed"
    },
    "tags": []
   },
   "source": [
    "TODO: Write markdown deriving the Black-Scholes equation and formula."
   ]
  },
  {
   "cell_type": "code",
   "execution_count": 2,
   "id": "2558b66d",
   "metadata": {
    "execution": {
     "iopub.execute_input": "2025-01-03T11:47:10.709519Z",
     "iopub.status.busy": "2025-01-03T11:47:10.709083Z",
     "iopub.status.idle": "2025-01-03T11:47:10.717883Z",
     "shell.execute_reply": "2025-01-03T11:47:10.716930Z"
    },
    "papermill": {
     "duration": 0.013636,
     "end_time": "2025-01-03T11:47:10.719599",
     "exception": false,
     "start_time": "2025-01-03T11:47:10.705963",
     "status": "completed"
    },
    "tags": []
   },
   "outputs": [],
   "source": [
    "class BlackScholesModel:\n",
    "    \"\"\"\n",
    "    Class to model options using the Black-Scholes model.\n",
    "    \"\"\"\n",
    "\n",
    "    def __init__(\n",
    "        self\n",
    "    ) -> None:\n",
    "        \"\"\"\n",
    "        Constructor\n",
    "        \"\"\"\n",
    "    def d1_and_d2(\n",
    "        self,  \n",
    "        S_t: float,\n",
    "        K: float,\n",
    "        r: float,\n",
    "        sigma: float,\n",
    "        t: float\n",
    "    ) -> tuple:\n",
    "        \"\"\"\n",
    "        Function to calculate the tuple (d1, d2) in the Black-Scholes formula\n",
    "        \"\"\"\n",
    "        # Calculate d1\n",
    "        numerator_first = math.log(S_t / K)\n",
    "        numerator_second = t * (r + (0.5 * (sigma ** 2)))\n",
    "        denominator = sigma * math.sqrt(t)\n",
    "        d1 = (numerator_first + numerator_second) / denominator\n",
    "\n",
    "        # Calculate d2\n",
    "        d2 = d1 - denominator\n",
    "\n",
    "        return d1, d2\n",
    "    \n",
    "    def price(\n",
    "        self,\n",
    "        option_type,\n",
    "        S_t: float,\n",
    "        K: float,\n",
    "        r: float,\n",
    "        sigma: float,\n",
    "        t: float\n",
    "    ) -> float:\n",
    "        \"\"\"\n",
    "        Function to return the price of an option.\n",
    "        \"\"\"\n",
    "        # Calculate d1 and d2\n",
    "        d1, d2 = self.d1_and_d2(\n",
    "            S_t=S_t,\n",
    "            K=K,\n",
    "            r=r,\n",
    "            sigma=sigma,\n",
    "            t=t\n",
    "        )\n",
    "\n",
    "        # Calculate price\n",
    "        if option_type == 'C':\n",
    "            first_term = S_t * norm.cdf(d1)\n",
    "            second_term = K * math.exp(-r * t) * norm.cdf(d2)\n",
    "            value = first_term - second_term\n",
    "        elif option_type == 'P':\n",
    "            first_term = K * math.exp(-r * t) * norm.cdf(-d2)\n",
    "            second_term = S_t * norm.cdf(-d1)\n",
    "            value = first_term - second_term\n",
    "        else:\n",
    "            raise ValueError(\"Invalid option_type. Must be 'C' or 'P'\")\n",
    "\n",
    "        return value\n",
    "\n",
    "    # TODO: Calculate Greeks. Calculate Implied Vol from price using optimization. Simulate asset path using geometric brownian motion.\n",
    "            "
   ]
  },
  {
   "cell_type": "code",
   "execution_count": 3,
   "id": "bbe1f17c",
   "metadata": {
    "execution": {
     "iopub.execute_input": "2025-01-03T11:47:10.725655Z",
     "iopub.status.busy": "2025-01-03T11:47:10.725325Z",
     "iopub.status.idle": "2025-01-03T11:47:10.736132Z",
     "shell.execute_reply": "2025-01-03T11:47:10.734991Z"
    },
    "papermill": {
     "duration": 0.015752,
     "end_time": "2025-01-03T11:47:10.737904",
     "exception": false,
     "start_time": "2025-01-03T11:47:10.722152",
     "status": "completed"
    },
    "tags": []
   },
   "outputs": [
    {
     "data": {
      "text/plain": [
       "9.169882483247832"
      ]
     },
     "execution_count": 3,
     "metadata": {},
     "output_type": "execute_result"
    }
   ],
   "source": [
    "bsm = BlackScholesModel()\n",
    "bsm.price(\n",
    "    option_type='P',\n",
    "    S_t=200,\n",
    "    K=195,\n",
    "    r=0.05,\n",
    "    sigma=0.20,\n",
    "    t=1    \n",
    ")"
   ]
  },
  {
   "cell_type": "code",
   "execution_count": null,
   "id": "160f399d",
   "metadata": {
    "papermill": {
     "duration": 0.002275,
     "end_time": "2025-01-03T11:47:10.742841",
     "exception": false,
     "start_time": "2025-01-03T11:47:10.740566",
     "status": "completed"
    },
    "tags": []
   },
   "outputs": [],
   "source": []
  }
 ],
 "metadata": {
  "kaggle": {
   "accelerator": "none",
   "dataSources": [],
   "dockerImageVersionId": 30822,
   "isGpuEnabled": false,
   "isInternetEnabled": true,
   "language": "python",
   "sourceType": "notebook"
  },
  "kernelspec": {
   "display_name": "Python 3",
   "language": "python",
   "name": "python3"
  },
  "language_info": {
   "codemirror_mode": {
    "name": "ipython",
    "version": 3
   },
   "file_extension": ".py",
   "mimetype": "text/x-python",
   "name": "python",
   "nbconvert_exporter": "python",
   "pygments_lexer": "ipython3",
   "version": "3.10.12"
  },
  "papermill": {
   "default_parameters": {},
   "duration": 3.99085,
   "end_time": "2025-01-03T11:47:11.264532",
   "environment_variables": {},
   "exception": null,
   "input_path": "__notebook__.ipynb",
   "output_path": "__notebook__.ipynb",
   "parameters": {},
   "start_time": "2025-01-03T11:47:07.273682",
   "version": "2.6.0"
  }
 },
 "nbformat": 4,
 "nbformat_minor": 5
}
