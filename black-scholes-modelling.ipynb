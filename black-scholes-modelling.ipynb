{
 "cells": [
  {
   "cell_type": "markdown",
   "id": "0ab8ab28",
   "metadata": {
    "papermill": {
     "duration": 0.005237,
     "end_time": "2025-01-06T11:35:08.087481",
     "exception": false,
     "start_time": "2025-01-06T11:35:08.082244",
     "status": "completed"
    },
    "tags": []
   },
   "source": [
    "# README\n",
    "The aim of this notebook is to build a Black-Scholes class to explain theoretical questions I have about options. In particular, I want to especially explore how an option's P&L is affected by realised vs implied volatility. This paper by Paul Wilmott dives into the details: http://spekulant.com.pl/article/Delta%20Hedging/Which%20Free%20Lunch%20Would%20You%20Like%20TodaySir%20DeltaHedgingVolatility.pdf\n",
    "\n",
    "This info can ultimately be used in a trading strategy on QuantConnect."
   ]
  },
  {
   "cell_type": "markdown",
   "id": "a833123d",
   "metadata": {
    "papermill": {
     "duration": 0.003527,
     "end_time": "2025-01-06T11:35:08.095273",
     "exception": false,
     "start_time": "2025-01-06T11:35:08.091746",
     "status": "completed"
    },
    "tags": []
   },
   "source": [
    "# Imports"
   ]
  },
  {
   "cell_type": "code",
   "execution_count": 1,
   "id": "dc590806",
   "metadata": {
    "execution": {
     "iopub.execute_input": "2025-01-06T11:35:08.104502Z",
     "iopub.status.busy": "2025-01-06T11:35:08.104143Z",
     "iopub.status.idle": "2025-01-06T11:35:09.359993Z",
     "shell.execute_reply": "2025-01-06T11:35:09.358786Z"
    },
    "papermill": {
     "duration": 1.263233,
     "end_time": "2025-01-06T11:35:09.362353",
     "exception": false,
     "start_time": "2025-01-06T11:35:08.099120",
     "status": "completed"
    },
    "tags": []
   },
   "outputs": [],
   "source": [
    "import math\n",
    "from scipy.stats import norm\n",
    "import numpy as np\n",
    "import matplotlib.pyplot as plt"
   ]
  },
  {
   "cell_type": "markdown",
   "id": "14c7b244",
   "metadata": {
    "papermill": {
     "duration": 0.00366,
     "end_time": "2025-01-06T11:35:09.370006",
     "exception": false,
     "start_time": "2025-01-06T11:35:09.366346",
     "status": "completed"
    },
    "tags": []
   },
   "source": [
    "# Black-Scholes Class"
   ]
  },
  {
   "cell_type": "markdown",
   "id": "5eb46653",
   "metadata": {
    "papermill": {
     "duration": 0.003503,
     "end_time": "2025-01-06T11:35:09.377303",
     "exception": false,
     "start_time": "2025-01-06T11:35:09.373800",
     "status": "completed"
    },
    "tags": []
   },
   "source": [
    "TODO: Write markdown deriving the Black-Scholes equation and formula. Also write markdown to explain derivation of the formulas for the Greeks"
   ]
  },
  {
   "cell_type": "code",
   "execution_count": 2,
   "id": "291a9475",
   "metadata": {
    "execution": {
     "iopub.execute_input": "2025-01-06T11:35:09.386322Z",
     "iopub.status.busy": "2025-01-06T11:35:09.385807Z",
     "iopub.status.idle": "2025-01-06T11:35:09.406005Z",
     "shell.execute_reply": "2025-01-06T11:35:09.404973Z"
    },
    "papermill": {
     "duration": 0.026798,
     "end_time": "2025-01-06T11:35:09.407843",
     "exception": false,
     "start_time": "2025-01-06T11:35:09.381045",
     "status": "completed"
    },
    "tags": []
   },
   "outputs": [],
   "source": [
    "class BlackScholesModel:\n",
    "    \"\"\"\n",
    "    Class to model options using the Black-Scholes model.\n",
    "    \"\"\"\n",
    "\n",
    "    def __init__(\n",
    "        self\n",
    "    ) -> None:\n",
    "        \"\"\"\n",
    "        Constructor\n",
    "        \"\"\"\n",
    "    ############################\n",
    "    # Pricing and implied vol\n",
    "    ############################\n",
    "    \n",
    "    def d1_and_d2(\n",
    "        self,  \n",
    "        S: float,\n",
    "        K: float,\n",
    "        r: float,\n",
    "        sigma: float,\n",
    "        t: float\n",
    "    ) -> tuple:\n",
    "        \"\"\"\n",
    "        Function to calculate the tuple (d1, d2) in the Black-Scholes formula\n",
    "        \"\"\"\n",
    "        # Calculate d1\n",
    "        numerator_first = math.log(S / K)\n",
    "        numerator_second = t * (r + (0.5 * (sigma ** 2)))\n",
    "        denominator = sigma * math.sqrt(t)\n",
    "        d1 = (numerator_first + numerator_second) / denominator\n",
    "\n",
    "        # Calculate d2\n",
    "        d2 = d1 - denominator\n",
    "\n",
    "        return d1, d2\n",
    "    \n",
    "    def price(\n",
    "        self,\n",
    "        option_type,\n",
    "        S: float,\n",
    "        K: float,\n",
    "        r: float,\n",
    "        sigma: float,\n",
    "        t: float\n",
    "    ) -> float:\n",
    "        \"\"\"\n",
    "        Function to return the price of an option as in the Black-Scholes formula\n",
    "        \"\"\"\n",
    "        # Calculate d1 and d2\n",
    "        d1, d2 = self.d1_and_d2(\n",
    "            S=S,\n",
    "            K=K,\n",
    "            r=r,\n",
    "            sigma=sigma,\n",
    "            t=t\n",
    "        )\n",
    "\n",
    "        # Calculate price\n",
    "        if option_type == 'C':\n",
    "            first_term = S * norm.cdf(d1)\n",
    "            second_term = K * math.exp(-r * t) * norm.cdf(d2)\n",
    "            value = first_term - second_term\n",
    "        elif option_type == 'P':\n",
    "            first_term = K * math.exp(-r * t) * norm.cdf(-d2)\n",
    "            second_term = S * norm.cdf(-d1)\n",
    "            value = first_term - second_term\n",
    "        else:\n",
    "            raise ValueError(\"Invalid option_type. Must be 'C' or 'P'\")\n",
    "\n",
    "        return value\n",
    "\n",
    "    ############################\n",
    "    # Greeks\n",
    "    ############################\n",
    "    \n",
    "    def delta(\n",
    "        self,\n",
    "        option_type,\n",
    "        S: float,\n",
    "        K: float,\n",
    "        r: float,\n",
    "        sigma: float,\n",
    "        t: float\n",
    "    ) -> float:\n",
    "        \"\"\"\n",
    "        Function to return the delta of an option derived from the Black-Scholes formula. \n",
    "        Delta measures the sensitivity of an option's price to a change in price of the underlying.\n",
    "        \"\"\"\n",
    "        # Calculate d1 and d2 (only need d1)\n",
    "        d1, d2 = self.d1_and_d2(\n",
    "            S=S,\n",
    "            K=K,\n",
    "            r=r,\n",
    "            sigma=sigma,\n",
    "            t=t\n",
    "        )\n",
    "\n",
    "        # Calculate delta\n",
    "        if option_type == 'C':\n",
    "            value = norm.cdf(d1)\n",
    "        elif option_type == 'P':\n",
    "            value = norm.cdf(d1) - 1\n",
    "        else:\n",
    "            raise ValueError(\"Invalid option_type. Must be 'C' or 'P'\")\n",
    "\n",
    "        return value\n",
    "    \n",
    "    def gamma(\n",
    "        self,\n",
    "        S: float,\n",
    "        K: float,\n",
    "        r: float,\n",
    "        sigma: float,\n",
    "        t: float\n",
    "    ) -> float:\n",
    "        \"\"\"\n",
    "        Function to return the gamma of an option derived from the Black-Scholes formula. \n",
    "        Gamma measures the sensitivity of an option's delta to a change in price of the underlying.\n",
    "        \"\"\"\n",
    "        # Calculate d1 and d2 (only need d1)\n",
    "        d1, d2 = self.d1_and_d2(\n",
    "            S=S,\n",
    "            K=K,\n",
    "            r=r,\n",
    "            sigma=sigma,\n",
    "            t=t\n",
    "        )\n",
    "\n",
    "        # Calculate gamma\n",
    "        value = norm.pdf(d1) / (S * sigma * math.sqrt(t))\n",
    "\n",
    "        return value\n",
    "    \n",
    "    def vega(\n",
    "        self,\n",
    "        S: float,\n",
    "        K: float,\n",
    "        r: float,\n",
    "        sigma: float,\n",
    "        t: float\n",
    "    ) -> float:\n",
    "        \"\"\"\n",
    "        Function to return the vega of an option derived from the Black-Scholes formula. \n",
    "        Vega measures the sensitivity of an option's price to a change in the volatility of the underlying.\n",
    "        \"\"\"\n",
    "        # Calculate d1 and d2 (only need d1)\n",
    "        d1, d2 = self.d1_and_d2(\n",
    "            S=S,\n",
    "            K=K,\n",
    "            r=r,\n",
    "            sigma=sigma,\n",
    "            t=t\n",
    "        )\n",
    "\n",
    "        # Calculate vega\n",
    "        value = S * norm.pdf(d1) * math.sqrt(t)\n",
    "\n",
    "        return value\n",
    "\n",
    "    def theta(\n",
    "        self,\n",
    "        option_type,\n",
    "        S: float,\n",
    "        K: float,\n",
    "        r: float,\n",
    "        sigma: float,\n",
    "        t: float\n",
    "    ) -> float:\n",
    "        \"\"\"\n",
    "        Function to return the theta of an option derived from the Black-Scholes formula. \n",
    "        Theta measures the sensitivity of an option's price to a change in the time to expiry.\n",
    "        \"\"\"\n",
    "        # Calculate d1 and d2\n",
    "        d1, d2 = self.d1_and_d2(\n",
    "            S=S,\n",
    "            K=K,\n",
    "            r=r,\n",
    "            sigma=sigma,\n",
    "            t=t\n",
    "        )\n",
    "\n",
    "        # Calculate terms needed for theta\n",
    "        first_term = S * norm.pdf(d1) * sigma / (2 * math.sqrt(t))\n",
    "        second_term_common_factor = r * K * math.exp(-r * t)\n",
    "        \n",
    "        # Calculate theta\n",
    "        if option_type == 'C':\n",
    "            value = -first_term - (second_term_common_factor * norm.cdf(d2)) \n",
    "        elif option_type == 'P':\n",
    "            value = -first_term + (second_term_common_factor * norm.cdf(-d2)) \n",
    "        else:\n",
    "            raise ValueError(\"Invalid option_type. Must be 'C' or 'P'\")\n",
    "\n",
    "        return value\n",
    "\n",
    "    def rho(\n",
    "        self,\n",
    "        option_type,\n",
    "        S: float,\n",
    "        K: float,\n",
    "        r: float,\n",
    "        sigma: float,\n",
    "        t: float\n",
    "    ) -> float:\n",
    "        \"\"\"\n",
    "        Function to return the rho of an option derived from the Black-Scholes formula. \n",
    "        Rho measures the sensitivity of an option's price to a change in the risk-free interest rate.\n",
    "        \"\"\"\n",
    "        # Calculate d1 and d2\n",
    "        d1, d2 = self.d1_and_d2(\n",
    "            S=S,\n",
    "            K=K,\n",
    "            r=r,\n",
    "            sigma=sigma,\n",
    "            t=t\n",
    "        )\n",
    "\n",
    "        # Calculate rho\n",
    "        if option_type == 'C':\n",
    "            value = K * t * math.exp(-r * t) * norm.cdf(d2)\n",
    "        elif option_type == 'P':\n",
    "            value = -K * t * math.exp(-r * t) * norm.cdf(-d2)\n",
    "        else:\n",
    "            raise ValueError(\"Invalid option_type. Must be 'C' or 'P'\")\n",
    "\n",
    "        return value\n",
    "\n",
    "    ############################\n",
    "    # Simulations\n",
    "    ############################\n",
    "\n",
    "    def simulate_gbm(\n",
    "        self, \n",
    "        n_steps: int,\n",
    "        S_0: float,\n",
    "        t: float,\n",
    "        mu: float,\n",
    "        sigma: float\n",
    "    ) -> np.ndarray:\n",
    "        \"\"\"\n",
    "        Function to simulate Geometric Brownian Motion of the underlying asset, returning the price path taken by the underlying asset as an array.\n",
    "        \"\"\"\n",
    "        # Calculate time increment\n",
    "        dt = t / n_steps\n",
    "        \n",
    "        # Initialise path array\n",
    "        path = np.zeros(n_steps + 1)\n",
    "        path[0] = S_0\n",
    "        \n",
    "        # Use discrete form of Geometric Brownian Motion SDE to generate the path\n",
    "        for step in range(1, n_steps + 1):\n",
    "            z = np.random.standard_normal()\n",
    "            path[step] = path[step - 1] * np.exp((mu - 0.5 * sigma ** 2) * dt + sigma * np.sqrt(dt) * z)\n",
    "        \n",
    "        return path\n"
   ]
  },
  {
   "cell_type": "code",
   "execution_count": 3,
   "id": "9165f094",
   "metadata": {
    "execution": {
     "iopub.execute_input": "2025-01-06T11:35:09.417055Z",
     "iopub.status.busy": "2025-01-06T11:35:09.416597Z",
     "iopub.status.idle": "2025-01-06T11:35:09.421402Z",
     "shell.execute_reply": "2025-01-06T11:35:09.420388Z"
    },
    "papermill": {
     "duration": 0.011246,
     "end_time": "2025-01-06T11:35:09.423074",
     "exception": false,
     "start_time": "2025-01-06T11:35:09.411828",
     "status": "completed"
    },
    "tags": []
   },
   "outputs": [],
   "source": [
    "option_type = 'C'\n",
    "S = 199\n",
    "K = 200\n",
    "r = 0.05\n",
    "sigma = 0.20\n",
    "t = 1"
   ]
  },
  {
   "cell_type": "code",
   "execution_count": 4,
   "id": "1ae776e2",
   "metadata": {
    "execution": {
     "iopub.execute_input": "2025-01-06T11:35:09.432040Z",
     "iopub.status.busy": "2025-01-06T11:35:09.431626Z",
     "iopub.status.idle": "2025-01-06T11:35:09.436164Z",
     "shell.execute_reply": "2025-01-06T11:35:09.434864Z"
    },
    "papermill": {
     "duration": 0.010979,
     "end_time": "2025-01-06T11:35:09.437983",
     "exception": false,
     "start_time": "2025-01-06T11:35:09.427004",
     "status": "completed"
    },
    "tags": []
   },
   "outputs": [],
   "source": [
    "bsm = BlackScholesModel()"
   ]
  },
  {
   "cell_type": "code",
   "execution_count": 5,
   "id": "51aba9ff",
   "metadata": {
    "execution": {
     "iopub.execute_input": "2025-01-06T11:35:09.447217Z",
     "iopub.status.busy": "2025-01-06T11:35:09.446840Z",
     "iopub.status.idle": "2025-01-06T11:35:09.457816Z",
     "shell.execute_reply": "2025-01-06T11:35:09.456636Z"
    },
    "papermill": {
     "duration": 0.017667,
     "end_time": "2025-01-06T11:35:09.459674",
     "exception": false,
     "start_time": "2025-01-06T11:35:09.442007",
     "status": "completed"
    },
    "tags": []
   },
   "outputs": [
    {
     "data": {
      "text/plain": [
       "20.269048349878787"
      ]
     },
     "execution_count": 5,
     "metadata": {},
     "output_type": "execute_result"
    }
   ],
   "source": [
    "bsm.price(\n",
    "    option_type=option_type,\n",
    "    S=S,\n",
    "    K=K,\n",
    "    r=r,\n",
    "    sigma=sigma,\n",
    "    t=t\n",
    ")"
   ]
  },
  {
   "cell_type": "code",
   "execution_count": 6,
   "id": "45476426",
   "metadata": {
    "execution": {
     "iopub.execute_input": "2025-01-06T11:35:09.469427Z",
     "iopub.status.busy": "2025-01-06T11:35:09.469064Z",
     "iopub.status.idle": "2025-01-06T11:35:09.475817Z",
     "shell.execute_reply": "2025-01-06T11:35:09.474788Z"
    },
    "papermill": {
     "duration": 0.013434,
     "end_time": "2025-01-06T11:35:09.477460",
     "exception": false,
     "start_time": "2025-01-06T11:35:09.464026",
     "status": "completed"
    },
    "tags": []
   },
   "outputs": [
    {
     "data": {
      "text/plain": [
       "0.6273857335376911"
      ]
     },
     "execution_count": 6,
     "metadata": {},
     "output_type": "execute_result"
    }
   ],
   "source": [
    "bsm.delta(\n",
    "    option_type=option_type,\n",
    "    S=S,\n",
    "    K=K,\n",
    "    r=r,\n",
    "    sigma=sigma,\n",
    "    t=t\n",
    ")"
   ]
  },
  {
   "cell_type": "code",
   "execution_count": 7,
   "id": "e71cd916",
   "metadata": {
    "execution": {
     "iopub.execute_input": "2025-01-06T11:35:09.487785Z",
     "iopub.status.busy": "2025-01-06T11:35:09.487292Z",
     "iopub.status.idle": "2025-01-06T11:35:09.493800Z",
     "shell.execute_reply": "2025-01-06T11:35:09.492817Z"
    },
    "papermill": {
     "duration": 0.013585,
     "end_time": "2025-01-06T11:35:09.495452",
     "exception": false,
     "start_time": "2025-01-06T11:35:09.481867",
     "status": "completed"
    },
    "tags": []
   },
   "outputs": [
    {
     "data": {
      "text/plain": [
       "0.009508229739694011"
      ]
     },
     "execution_count": 7,
     "metadata": {},
     "output_type": "execute_result"
    }
   ],
   "source": [
    "bsm.gamma(\n",
    "    S=S,\n",
    "    K=K,\n",
    "    r=r,\n",
    "    sigma=sigma,\n",
    "    t=t\n",
    ")"
   ]
  },
  {
   "cell_type": "code",
   "execution_count": 8,
   "id": "ba89408e",
   "metadata": {
    "execution": {
     "iopub.execute_input": "2025-01-06T11:35:09.505279Z",
     "iopub.status.busy": "2025-01-06T11:35:09.504918Z",
     "iopub.status.idle": "2025-01-06T11:35:09.511670Z",
     "shell.execute_reply": "2025-01-06T11:35:09.510629Z"
    },
    "papermill": {
     "duration": 0.013287,
     "end_time": "2025-01-06T11:35:09.513198",
     "exception": false,
     "start_time": "2025-01-06T11:35:09.499911",
     "status": "completed"
    },
    "tags": []
   },
   "outputs": [
    {
     "data": {
      "text/plain": [
       "75.30708118432452"
      ]
     },
     "execution_count": 8,
     "metadata": {},
     "output_type": "execute_result"
    }
   ],
   "source": [
    "bsm.vega(\n",
    "    S=S,\n",
    "    K=K,\n",
    "    r=r,\n",
    "    sigma=sigma,\n",
    "    t=t\n",
    ")"
   ]
  },
  {
   "cell_type": "code",
   "execution_count": 9,
   "id": "d70db52d",
   "metadata": {
    "execution": {
     "iopub.execute_input": "2025-01-06T11:35:09.522945Z",
     "iopub.status.busy": "2025-01-06T11:35:09.522562Z",
     "iopub.status.idle": "2025-01-06T11:35:09.529408Z",
     "shell.execute_reply": "2025-01-06T11:35:09.528396Z"
    },
    "papermill": {
     "duration": 0.013783,
     "end_time": "2025-01-06T11:35:09.531249",
     "exception": false,
     "start_time": "2025-01-06T11:35:09.517466",
     "status": "completed"
    },
    "tags": []
   },
   "outputs": [
    {
     "data": {
      "text/plain": [
       "-12.75974374963854"
      ]
     },
     "execution_count": 9,
     "metadata": {},
     "output_type": "execute_result"
    }
   ],
   "source": [
    "bsm.theta(\n",
    "    option_type=option_type,\n",
    "    S=S,\n",
    "    K=K,\n",
    "    r=r,\n",
    "    sigma=sigma,\n",
    "    t=t\n",
    ")"
   ]
  },
  {
   "cell_type": "code",
   "execution_count": 10,
   "id": "ad757c3a",
   "metadata": {
    "execution": {
     "iopub.execute_input": "2025-01-06T11:35:09.541202Z",
     "iopub.status.busy": "2025-01-06T11:35:09.540839Z",
     "iopub.status.idle": "2025-01-06T11:35:09.547953Z",
     "shell.execute_reply": "2025-01-06T11:35:09.546720Z"
    },
    "papermill": {
     "duration": 0.014105,
     "end_time": "2025-01-06T11:35:09.549762",
     "exception": false,
     "start_time": "2025-01-06T11:35:09.535657",
     "status": "completed"
    },
    "tags": []
   },
   "outputs": [
    {
     "data": {
      "text/plain": [
       "104.58071262412174"
      ]
     },
     "execution_count": 10,
     "metadata": {},
     "output_type": "execute_result"
    }
   ],
   "source": [
    "bsm.rho(\n",
    "    option_type=option_type,\n",
    "    S=S,\n",
    "    K=K,\n",
    "    r=r,\n",
    "    sigma=sigma,\n",
    "    t=t\n",
    ")"
   ]
  },
  {
   "cell_type": "code",
   "execution_count": 11,
   "id": "c4bf7f6d",
   "metadata": {
    "execution": {
     "iopub.execute_input": "2025-01-06T11:35:09.559984Z",
     "iopub.status.busy": "2025-01-06T11:35:09.559586Z",
     "iopub.status.idle": "2025-01-06T11:35:09.821004Z",
     "shell.execute_reply": "2025-01-06T11:35:09.819763Z"
    },
    "papermill": {
     "duration": 0.268852,
     "end_time": "2025-01-06T11:35:09.823164",
     "exception": false,
     "start_time": "2025-01-06T11:35:09.554312",
     "status": "completed"
    },
    "tags": []
   },
   "outputs": [
    {
     "data": {
      "text/plain": [
       "[<matplotlib.lines.Line2D at 0x797eeb089090>]"
      ]
     },
     "execution_count": 11,
     "metadata": {},
     "output_type": "execute_result"
    },
    {
     "data": {
      "image/png": "[encoded data removed]",
      "text/plain": [
       "<Figure size 640x480 with 1 Axes>"
      ]
     },
     "metadata": {},
     "output_type": "display_data"
    }
   ],
   "source": [
    "path = bsm.simulate_gbm(\n",
    "    n_steps=1000,\n",
    "    S_0=S,\n",
    "    t=t,\n",
    "    mu=r,\n",
    "    sigma=sigma\n",
    ")\n",
    "plt.plot(path)"
   ]
  },
  {
   "cell_type": "code",
   "execution_count": null,
   "id": "85987bd8",
   "metadata": {
    "papermill": {
     "duration": 0.004987,
     "end_time": "2025-01-06T11:35:09.833431",
     "exception": false,
     "start_time": "2025-01-06T11:35:09.828444",
     "status": "completed"
    },
    "tags": []
   },
   "outputs": [],
   "source": []
  }
 ],
 "metadata": {
  "kaggle": {
   "accelerator": "none",
   "dataSources": [],
   "dockerImageVersionId": 30822,
   "isGpuEnabled": false,
   "isInternetEnabled": true,
   "language": "python",
   "sourceType": "notebook"
  },
  "kernelspec": {
   "display_name": "Python 3",
   "language": "python",
   "name": "python3"
  },
  "language_info": {
   "codemirror_mode": {
    "name": "ipython",
    "version": 3
   },
   "file_extension": ".py",
   "mimetype": "text/x-python",
   "name": "python",
   "nbconvert_exporter": "python",
   "pygments_lexer": "ipython3",
   "version": "3.10.12"
  },
  "papermill": {
   "default_parameters": {},
   "duration": 4.549827,
   "end_time": "2025-01-06T11:35:10.358411",
   "environment_variables": {},
   "exception": null,
   "input_path": "__notebook__.ipynb",
   "output_path": "__notebook__.ipynb",
   "parameters": {},
   "start_time": "2025-01-06T11:35:05.808584",
   "version": "2.6.0"
  }
 },
 "nbformat": 4,
 "nbformat_minor": 5
}
