{
 "cells": [
  {
   "cell_type": "markdown",
   "id": "357738c0",
   "metadata": {
    "papermill": {
     "duration": 0.004227,
     "end_time": "2025-01-05T12:10:10.541441",
     "exception": false,
     "start_time": "2025-01-05T12:10:10.537214",
     "status": "completed"
    },
    "tags": []
   },
   "source": [
    "# README\n",
    "The aim of this notebook is to build a Black-Scholes class to explain theoretical questions I have about options. In particular, I want to especially explore how an option's P&L is affected by realised vs implied volatility. This paper by Paul Wilmott dives into the details: http://spekulant.com.pl/article/Delta%20Hedging/Which%20Free%20Lunch%20Would%20You%20Like%20TodaySir%20DeltaHedgingVolatility.pdf\n",
    "\n",
    "This info can ultimately be used in a trading strategy on QuantConnect."
   ]
  },
  {
   "cell_type": "markdown",
   "id": "d94f92cb",
   "metadata": {
    "papermill": {
     "duration": 0.003088,
     "end_time": "2025-01-05T12:10:10.548254",
     "exception": false,
     "start_time": "2025-01-05T12:10:10.545166",
     "status": "completed"
    },
    "tags": []
   },
   "source": [
    "# Imports"
   ]
  },
  {
   "cell_type": "code",
   "execution_count": 1,
   "id": "a3aea7d9",
   "metadata": {
    "execution": {
     "iopub.execute_input": "2025-01-05T12:10:10.556418Z",
     "iopub.status.busy": "2025-01-05T12:10:10.556038Z",
     "iopub.status.idle": "2025-01-05T12:10:11.781349Z",
     "shell.execute_reply": "2025-01-05T12:10:11.780457Z"
    },
    "papermill": {
     "duration": 1.231921,
     "end_time": "2025-01-05T12:10:11.783502",
     "exception": false,
     "start_time": "2025-01-05T12:10:10.551581",
     "status": "completed"
    },
    "tags": []
   },
   "outputs": [],
   "source": [
    "import math\n",
    "from scipy.stats import norm\n",
    "import numpy as np\n",
    "import matplotlib.pyplot as plt"
   ]
  },
  {
   "cell_type": "markdown",
   "id": "3495d857",
   "metadata": {
    "papermill": {
     "duration": 0.003353,
     "end_time": "2025-01-05T12:10:11.790659",
     "exception": false,
     "start_time": "2025-01-05T12:10:11.787306",
     "status": "completed"
    },
    "tags": []
   },
   "source": [
    "# Black-Scholes Class"
   ]
  },
  {
   "cell_type": "markdown",
   "id": "ca8d5a2c",
   "metadata": {
    "papermill": {
     "duration": 0.003523,
     "end_time": "2025-01-05T12:10:11.797724",
     "exception": false,
     "start_time": "2025-01-05T12:10:11.794201",
     "status": "completed"
    },
    "tags": []
   },
   "source": [
    "TODO: Write markdown deriving the Black-Scholes equation and formula. Also write markdown to explain derivation of the formulas for the Greeks"
   ]
  },
  {
   "cell_type": "code",
   "execution_count": 2,
   "id": "ebf4bde8",
   "metadata": {
    "execution": {
     "iopub.execute_input": "2025-01-05T12:10:11.807110Z",
     "iopub.status.busy": "2025-01-05T12:10:11.806567Z",
     "iopub.status.idle": "2025-01-05T12:10:11.826044Z",
     "shell.execute_reply": "2025-01-05T12:10:11.824873Z"
    },
    "papermill": {
     "duration": 0.027049,
     "end_time": "2025-01-05T12:10:11.828375",
     "exception": false,
     "start_time": "2025-01-05T12:10:11.801326",
     "status": "completed"
    },
    "tags": []
   },
   "outputs": [],
   "source": [
    "class BlackScholesModel:\n",
    "    \"\"\"\n",
    "    Class to model options using the Black-Scholes model.\n",
    "    \"\"\"\n",
    "\n",
    "    def __init__(\n",
    "        self\n",
    "    ) -> None:\n",
    "        \"\"\"\n",
    "        Constructor\n",
    "        \"\"\"\n",
    "    def d1_and_d2(\n",
    "        self,  \n",
    "        S: float,\n",
    "        K: float,\n",
    "        r: float,\n",
    "        sigma: float,\n",
    "        t: float\n",
    "    ) -> tuple:\n",
    "        \"\"\"\n",
    "        Function to calculate the tuple (d1, d2) in the Black-Scholes formula\n",
    "        \"\"\"\n",
    "        # Calculate d1\n",
    "        numerator_first = math.log(S / K)\n",
    "        numerator_second = t * (r + (0.5 * (sigma ** 2)))\n",
    "        denominator = sigma * math.sqrt(t)\n",
    "        d1 = (numerator_first + numerator_second) / denominator\n",
    "\n",
    "        # Calculate d2\n",
    "        d2 = d1 - denominator\n",
    "\n",
    "        return d1, d2\n",
    "    \n",
    "    def price(\n",
    "        self,\n",
    "        option_type,\n",
    "        S: float,\n",
    "        K: float,\n",
    "        r: float,\n",
    "        sigma: float,\n",
    "        t: float\n",
    "    ) -> float:\n",
    "        \"\"\"\n",
    "        Function to return the price of an option as in the Black-Scholes formula\n",
    "        \"\"\"\n",
    "        # Calculate d1 and d2\n",
    "        d1, d2 = self.d1_and_d2(\n",
    "            S=S,\n",
    "            K=K,\n",
    "            r=r,\n",
    "            sigma=sigma,\n",
    "            t=t\n",
    "        )\n",
    "\n",
    "        # Calculate price\n",
    "        if option_type == 'C':\n",
    "            first_term = S * norm.cdf(d1)\n",
    "            second_term = K * math.exp(-r * t) * norm.cdf(d2)\n",
    "            value = first_term - second_term\n",
    "        elif option_type == 'P':\n",
    "            first_term = K * math.exp(-r * t) * norm.cdf(-d2)\n",
    "            second_term = S * norm.cdf(-d1)\n",
    "            value = first_term - second_term\n",
    "        else:\n",
    "            raise ValueError(\"Invalid option_type. Must be 'C' or 'P'\")\n",
    "\n",
    "        return value\n",
    "\n",
    "    def delta(\n",
    "        self,\n",
    "        option_type,\n",
    "        S: float,\n",
    "        K: float,\n",
    "        r: float,\n",
    "        sigma: float,\n",
    "        t: float\n",
    "    ) -> float:\n",
    "        \"\"\"\n",
    "        Function to return the delta of an option derived from the Black-Scholes formula. \n",
    "        Delta measures the sensitivity of an option's price to a change in price of the underlying.\n",
    "        \"\"\"\n",
    "        # Calculate d1 and d2 (only need d1)\n",
    "        d1, d2 = self.d1_and_d2(\n",
    "            S=S,\n",
    "            K=K,\n",
    "            r=r,\n",
    "            sigma=sigma,\n",
    "            t=t\n",
    "        )\n",
    "\n",
    "        # Calculate delta\n",
    "        if option_type == 'C':\n",
    "            value = norm.cdf(d1)\n",
    "        elif option_type == 'P':\n",
    "            value = norm.cdf(d1) - 1\n",
    "        else:\n",
    "            raise ValueError(\"Invalid option_type. Must be 'C' or 'P'\")\n",
    "\n",
    "        return value\n",
    "    \n",
    "    def gamma(\n",
    "        self,\n",
    "        S: float,\n",
    "        K: float,\n",
    "        r: float,\n",
    "        sigma: float,\n",
    "        t: float\n",
    "    ) -> float:\n",
    "        \"\"\"\n",
    "        Function to return the gamma of an option derived from the Black-Scholes formula. \n",
    "        Gamma measures the sensitivity of an option's delta to a change in price of the underlying.\n",
    "        \"\"\"\n",
    "        # Calculate d1 and d2 (only need d1)\n",
    "        d1, d2 = self.d1_and_d2(\n",
    "            S=S,\n",
    "            K=K,\n",
    "            r=r,\n",
    "            sigma=sigma,\n",
    "            t=t\n",
    "        )\n",
    "\n",
    "        # Calculate gamma\n",
    "        value = norm.pdf(d1) / (S * sigma * math.sqrt(t))\n",
    "\n",
    "        return value\n",
    "    \n",
    "    def vega(\n",
    "        self,\n",
    "        S: float,\n",
    "        K: float,\n",
    "        r: float,\n",
    "        sigma: float,\n",
    "        t: float\n",
    "    ) -> float:\n",
    "        \"\"\"\n",
    "        Function to return the vega of an option derived from the Black-Scholes formula. \n",
    "        Vega measures the sensitivity of an option's price to a change in the volatility of the underlying.\n",
    "        \"\"\"\n",
    "        # Calculate d1 and d2 (only need d1)\n",
    "        d1, d2 = self.d1_and_d2(\n",
    "            S=S,\n",
    "            K=K,\n",
    "            r=r,\n",
    "            sigma=sigma,\n",
    "            t=t\n",
    "        )\n",
    "\n",
    "        # Calculate vega\n",
    "        value = S * norm.pdf(d1) * math.sqrt(t)\n",
    "\n",
    "        return value\n",
    "\n",
    "    def theta(\n",
    "        self,\n",
    "        option_type,\n",
    "        S: float,\n",
    "        K: float,\n",
    "        r: float,\n",
    "        sigma: float,\n",
    "        t: float\n",
    "    ) -> float:\n",
    "        \"\"\"\n",
    "        Function to return the theta of an option derived from the Black-Scholes formula. \n",
    "        Theta measures the sensitivity of an option's price to a change in the time to expiry.\n",
    "        \"\"\"\n",
    "        # Calculate d1 and d2\n",
    "        d1, d2 = self.d1_and_d2(\n",
    "            S=S,\n",
    "            K=K,\n",
    "            r=r,\n",
    "            sigma=sigma,\n",
    "            t=t\n",
    "        )\n",
    "\n",
    "        # Calculate terms needed for theta\n",
    "        first_term = S * norm.pdf(d1) * sigma / (2 * math.sqrt(t))\n",
    "        second_term_common_factor = r * K * math.exp(-r * t)\n",
    "        \n",
    "        # Calculate theta\n",
    "        if option_type == 'C':\n",
    "            value = -first_term - (second_term_common_factor * norm.cdf(d2)) \n",
    "        elif option_type == 'P':\n",
    "            value = -first_term + (second_term_common_factor * norm.cdf(-d2)) \n",
    "        else:\n",
    "            raise ValueError(\"Invalid option_type. Must be 'C' or 'P'\")\n",
    "\n",
    "        return value\n",
    "\n",
    "    def rho(\n",
    "        self,\n",
    "        option_type,\n",
    "        S: float,\n",
    "        K: float,\n",
    "        r: float,\n",
    "        sigma: float,\n",
    "        t: float\n",
    "    ) -> float:\n",
    "        \"\"\"\n",
    "        Function to return the rho of an option derived from the Black-Scholes formula. \n",
    "        Rho measures the sensitivity of an option's price to a change in the risk-free interest rate.\n",
    "        \"\"\"\n",
    "        # Calculate d1 and d2\n",
    "        d1, d2 = self.d1_and_d2(\n",
    "            S=S,\n",
    "            K=K,\n",
    "            r=r,\n",
    "            sigma=sigma,\n",
    "            t=t\n",
    "        )\n",
    "\n",
    "        # Calculate rho\n",
    "        if option_type == 'C':\n",
    "            value = K * t * math.exp(-r * t) * norm.cdf(d2)\n",
    "        elif option_type == 'P':\n",
    "            value = -K * t * math.exp(-r * t) * norm.cdf(-d2)\n",
    "        else:\n",
    "            raise ValueError(\"Invalid option_type. Must be 'C' or 'P'\")\n",
    "\n",
    "        return value\n",
    "    # TODO: Calculate Greeks. Calculate Implied Vol from price using optimization. Simulate asset path using geometric brownian motion.\n",
    "            "
   ]
  },
  {
   "cell_type": "code",
   "execution_count": 3,
   "id": "30ce6791",
   "metadata": {
    "execution": {
     "iopub.execute_input": "2025-01-05T12:10:11.836743Z",
     "iopub.status.busy": "2025-01-05T12:10:11.836361Z",
     "iopub.status.idle": "2025-01-05T12:10:11.840946Z",
     "shell.execute_reply": "2025-01-05T12:10:11.839955Z"
    },
    "papermill": {
     "duration": 0.010452,
     "end_time": "2025-01-05T12:10:11.842489",
     "exception": false,
     "start_time": "2025-01-05T12:10:11.832037",
     "status": "completed"
    },
    "tags": []
   },
   "outputs": [],
   "source": [
    "option_type = 'C'\n",
    "S = 199\n",
    "K = 200\n",
    "r = 0.05\n",
    "sigma = 0.20\n",
    "t = 1"
   ]
  },
  {
   "cell_type": "code",
   "execution_count": 4,
   "id": "2b263e5b",
   "metadata": {
    "execution": {
     "iopub.execute_input": "2025-01-05T12:10:11.851196Z",
     "iopub.status.busy": "2025-01-05T12:10:11.850825Z",
     "iopub.status.idle": "2025-01-05T12:10:11.855023Z",
     "shell.execute_reply": "2025-01-05T12:10:11.853871Z"
    },
    "papermill": {
     "duration": 0.010303,
     "end_time": "2025-01-05T12:10:11.856678",
     "exception": false,
     "start_time": "2025-01-05T12:10:11.846375",
     "status": "completed"
    },
    "tags": []
   },
   "outputs": [],
   "source": [
    "bsm = BlackScholesModel()"
   ]
  },
  {
   "cell_type": "code",
   "execution_count": 5,
   "id": "37bb9d01",
   "metadata": {
    "execution": {
     "iopub.execute_input": "2025-01-05T12:10:11.865173Z",
     "iopub.status.busy": "2025-01-05T12:10:11.864836Z",
     "iopub.status.idle": "2025-01-05T12:10:11.875249Z",
     "shell.execute_reply": "2025-01-05T12:10:11.874266Z"
    },
    "papermill": {
     "duration": 0.016687,
     "end_time": "2025-01-05T12:10:11.877035",
     "exception": false,
     "start_time": "2025-01-05T12:10:11.860348",
     "status": "completed"
    },
    "tags": []
   },
   "outputs": [
    {
     "data": {
      "text/plain": [
       "20.269048349878787"
      ]
     },
     "execution_count": 5,
     "metadata": {},
     "output_type": "execute_result"
    }
   ],
   "source": [
    "bsm.price(\n",
    "    option_type=option_type,\n",
    "    S=S,\n",
    "    K=K,\n",
    "    r=r,\n",
    "    sigma=sigma,\n",
    "    t=t\n",
    ")"
   ]
  },
  {
   "cell_type": "code",
   "execution_count": 6,
   "id": "91a9b6f9",
   "metadata": {
    "execution": {
     "iopub.execute_input": "2025-01-05T12:10:11.885820Z",
     "iopub.status.busy": "2025-01-05T12:10:11.885411Z",
     "iopub.status.idle": "2025-01-05T12:10:11.891962Z",
     "shell.execute_reply": "2025-01-05T12:10:11.890927Z"
    },
    "papermill": {
     "duration": 0.012608,
     "end_time": "2025-01-05T12:10:11.893532",
     "exception": false,
     "start_time": "2025-01-05T12:10:11.880924",
     "status": "completed"
    },
    "tags": []
   },
   "outputs": [
    {
     "data": {
      "text/plain": [
       "0.6273857335376911"
      ]
     },
     "execution_count": 6,
     "metadata": {},
     "output_type": "execute_result"
    }
   ],
   "source": [
    "bsm.delta(\n",
    "    option_type=option_type,\n",
    "    S=S,\n",
    "    K=K,\n",
    "    r=r,\n",
    "    sigma=sigma,\n",
    "    t=t\n",
    ")"
   ]
  },
  {
   "cell_type": "code",
   "execution_count": 7,
   "id": "cc3fae5d",
   "metadata": {
    "execution": {
     "iopub.execute_input": "2025-01-05T12:10:11.902467Z",
     "iopub.status.busy": "2025-01-05T12:10:11.902139Z",
     "iopub.status.idle": "2025-01-05T12:10:11.908499Z",
     "shell.execute_reply": "2025-01-05T12:10:11.907476Z"
    },
    "papermill": {
     "duration": 0.012832,
     "end_time": "2025-01-05T12:10:11.910308",
     "exception": false,
     "start_time": "2025-01-05T12:10:11.897476",
     "status": "completed"
    },
    "tags": []
   },
   "outputs": [
    {
     "data": {
      "text/plain": [
       "0.009508229739694011"
      ]
     },
     "execution_count": 7,
     "metadata": {},
     "output_type": "execute_result"
    }
   ],
   "source": [
    "bsm.gamma(\n",
    "    S=S,\n",
    "    K=K,\n",
    "    r=r,\n",
    "    sigma=sigma,\n",
    "    t=t\n",
    ")"
   ]
  },
  {
   "cell_type": "code",
   "execution_count": 8,
   "id": "db3d9b1a",
   "metadata": {
    "execution": {
     "iopub.execute_input": "2025-01-05T12:10:11.919160Z",
     "iopub.status.busy": "2025-01-05T12:10:11.918796Z",
     "iopub.status.idle": "2025-01-05T12:10:11.925475Z",
     "shell.execute_reply": "2025-01-05T12:10:11.924461Z"
    },
    "papermill": {
     "duration": 0.013013,
     "end_time": "2025-01-05T12:10:11.927191",
     "exception": false,
     "start_time": "2025-01-05T12:10:11.914178",
     "status": "completed"
    },
    "tags": []
   },
   "outputs": [
    {
     "data": {
      "text/plain": [
       "75.30708118432452"
      ]
     },
     "execution_count": 8,
     "metadata": {},
     "output_type": "execute_result"
    }
   ],
   "source": [
    "bsm.vega(\n",
    "    S=S,\n",
    "    K=K,\n",
    "    r=r,\n",
    "    sigma=sigma,\n",
    "    t=t\n",
    ")"
   ]
  },
  {
   "cell_type": "code",
   "execution_count": 9,
   "id": "3669bb72",
   "metadata": {
    "execution": {
     "iopub.execute_input": "2025-01-05T12:10:11.937310Z",
     "iopub.status.busy": "2025-01-05T12:10:11.936978Z",
     "iopub.status.idle": "2025-01-05T12:10:11.943559Z",
     "shell.execute_reply": "2025-01-05T12:10:11.942581Z"
    },
    "papermill": {
     "duration": 0.013208,
     "end_time": "2025-01-05T12:10:11.945183",
     "exception": false,
     "start_time": "2025-01-05T12:10:11.931975",
     "status": "completed"
    },
    "tags": []
   },
   "outputs": [
    {
     "data": {
      "text/plain": [
       "-12.75974374963854"
      ]
     },
     "execution_count": 9,
     "metadata": {},
     "output_type": "execute_result"
    }
   ],
   "source": [
    "bsm.theta(\n",
    "    option_type=option_type,\n",
    "    S=S,\n",
    "    K=K,\n",
    "    r=r,\n",
    "    sigma=sigma,\n",
    "    t=t\n",
    ")"
   ]
  },
  {
   "cell_type": "code",
   "execution_count": 10,
   "id": "5ffa032b",
   "metadata": {
    "execution": {
     "iopub.execute_input": "2025-01-05T12:10:11.954734Z",
     "iopub.status.busy": "2025-01-05T12:10:11.954233Z",
     "iopub.status.idle": "2025-01-05T12:10:11.961208Z",
     "shell.execute_reply": "2025-01-05T12:10:11.960025Z"
    },
    "papermill": {
     "duration": 0.013776,
     "end_time": "2025-01-05T12:10:11.963066",
     "exception": false,
     "start_time": "2025-01-05T12:10:11.949290",
     "status": "completed"
    },
    "tags": []
   },
   "outputs": [
    {
     "data": {
      "text/plain": [
       "104.58071262412174"
      ]
     },
     "execution_count": 10,
     "metadata": {},
     "output_type": "execute_result"
    }
   ],
   "source": [
    "bsm.rho(\n",
    "    option_type=option_type,\n",
    "    S=S,\n",
    "    K=K,\n",
    "    r=r,\n",
    "    sigma=sigma,\n",
    "    t=t\n",
    ")"
   ]
  }
 ],
 "metadata": {
  "kaggle": {
   "accelerator": "none",
   "dataSources": [],
   "dockerImageVersionId": 30822,
   "isGpuEnabled": false,
   "isInternetEnabled": true,
   "language": "python",
   "sourceType": "notebook"
  },
  "kernelspec": {
   "display_name": "Python 3",
   "language": "python",
   "name": "python3"
  },
  "language_info": {
   "codemirror_mode": {
    "name": "ipython",
    "version": 3
   },
   "file_extension": ".py",
   "mimetype": "text/x-python",
   "name": "python",
   "nbconvert_exporter": "python",
   "pygments_lexer": "ipython3",
   "version": "3.10.12"
  },
  "papermill": {
   "default_parameters": {},
   "duration": 4.220141,
   "end_time": "2025-01-05T12:10:12.487728",
   "environment_variables": {},
   "exception": null,
   "input_path": "__notebook__.ipynb",
   "output_path": "__notebook__.ipynb",
   "parameters": {},
   "start_time": "2025-01-05T12:10:08.267587",
   "version": "2.6.0"
  }
 },
 "nbformat": 4,
 "nbformat_minor": 5
}
