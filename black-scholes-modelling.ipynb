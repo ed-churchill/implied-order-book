{
 "cells": [
  {
   "cell_type": "markdown",
   "id": "be2bf0dc",
   "metadata": {
    "papermill": {
     "duration": 0.003336,
     "end_time": "2025-01-06T13:52:02.030462",
     "exception": false,
     "start_time": "2025-01-06T13:52:02.027126",
     "status": "completed"
    },
    "tags": []
   },
   "source": [
    "# README\n",
    "The aim of this notebook is to build a Black-Scholes class to explain theoretical questions I have about options. In particular, I want to especially explore how an option's P&L is affected by realised vs implied volatility. This paper by Paul Wilmott dives into the details: http://spekulant.com.pl/article/Delta%20Hedging/Which%20Free%20Lunch%20Would%20You%20Like%20TodaySir%20DeltaHedgingVolatility.pdf\n",
    "\n",
    "This info can ultimately be used in a trading strategy on QuantConnect."
   ]
  },
  {
   "cell_type": "markdown",
   "id": "567a88e9",
   "metadata": {
    "papermill": {
     "duration": 0.002358,
     "end_time": "2025-01-06T13:52:02.035650",
     "exception": false,
     "start_time": "2025-01-06T13:52:02.033292",
     "status": "completed"
    },
    "tags": []
   },
   "source": [
    "# Imports"
   ]
  },
  {
   "cell_type": "code",
   "execution_count": 1,
   "id": "96182221",
   "metadata": {
    "execution": {
     "iopub.execute_input": "2025-01-06T13:52:02.041920Z",
     "iopub.status.busy": "2025-01-06T13:52:02.041655Z",
     "iopub.status.idle": "2025-01-06T13:52:03.847623Z",
     "shell.execute_reply": "2025-01-06T13:52:03.846948Z"
    },
    "papermill": {
     "duration": 1.811064,
     "end_time": "2025-01-06T13:52:03.849385",
     "exception": false,
     "start_time": "2025-01-06T13:52:02.038321",
     "status": "completed"
    },
    "tags": []
   },
   "outputs": [],
   "source": [
    "import math\n",
    "from scipy.stats import norm\n",
    "from scipy.optimize import minimize\n",
    "import numpy as np\n",
    "import matplotlib.pyplot as plt\n",
    "import cvxpy as cp"
   ]
  },
  {
   "cell_type": "markdown",
   "id": "10f0e6b9",
   "metadata": {
    "papermill": {
     "duration": 0.005268,
     "end_time": "2025-01-06T13:52:03.860417",
     "exception": false,
     "start_time": "2025-01-06T13:52:03.855149",
     "status": "completed"
    },
    "tags": []
   },
   "source": [
    "# Black-Scholes Class"
   ]
  },
  {
   "cell_type": "markdown",
   "id": "10f0225a",
   "metadata": {
    "papermill": {
     "duration": 0.004746,
     "end_time": "2025-01-06T13:52:03.869415",
     "exception": false,
     "start_time": "2025-01-06T13:52:03.864669",
     "status": "completed"
    },
    "tags": []
   },
   "source": [
    "TODO: Write markdown deriving the Black-Scholes equation and formula. Also write markdown to explain derivation of the formulas for the Greeks"
   ]
  },
  {
   "cell_type": "code",
   "execution_count": 2,
   "id": "0ac4411f",
   "metadata": {
    "execution": {
     "iopub.execute_input": "2025-01-06T13:52:03.878735Z",
     "iopub.status.busy": "2025-01-06T13:52:03.878379Z",
     "iopub.status.idle": "2025-01-06T13:52:03.895879Z",
     "shell.execute_reply": "2025-01-06T13:52:03.894351Z"
    },
    "papermill": {
     "duration": 0.023664,
     "end_time": "2025-01-06T13:52:03.897676",
     "exception": false,
     "start_time": "2025-01-06T13:52:03.874012",
     "status": "completed"
    },
    "tags": []
   },
   "outputs": [],
   "source": [
    "class BlackScholesModel:\n",
    "    \"\"\"\n",
    "    Class to model options using the Black-Scholes model.\n",
    "    \"\"\"\n",
    "\n",
    "    def __init__(\n",
    "        self\n",
    "    ) -> None:\n",
    "        \"\"\"\n",
    "        Constructor\n",
    "        \"\"\"\n",
    "    ############################\n",
    "    # Pricing and implied vol\n",
    "    ############################\n",
    "    \n",
    "    def d1_and_d2(\n",
    "        self,  \n",
    "        S: float,\n",
    "        K: float,\n",
    "        r: float,\n",
    "        sigma: float,\n",
    "        t: float\n",
    "    ) -> tuple:\n",
    "        \"\"\"\n",
    "        Function to calculate the tuple (d1, d2) in the Black-Scholes formula\n",
    "        \"\"\"\n",
    "        # Calculate d1\n",
    "        numerator_first = math.log(S / K)\n",
    "        numerator_second = t * (r + (0.5 * (sigma ** 2)))\n",
    "        denominator = sigma * math.sqrt(t)\n",
    "        d1 = (numerator_first + numerator_second) / denominator\n",
    "\n",
    "        # Calculate d2\n",
    "        d2 = d1 - denominator\n",
    "\n",
    "        return d1, d2\n",
    "    \n",
    "    def price(\n",
    "        self,\n",
    "        option_type,\n",
    "        S: float,\n",
    "        K: float,\n",
    "        r: float,\n",
    "        sigma: float,\n",
    "        t: float\n",
    "    ) -> float:\n",
    "        \"\"\"\n",
    "        Function to return the price of an option as in the Black-Scholes formula\n",
    "        \"\"\"\n",
    "        # Calculate d1 and d2\n",
    "        d1, d2 = self.d1_and_d2(\n",
    "            S=S,\n",
    "            K=K,\n",
    "            r=r,\n",
    "            sigma=sigma,\n",
    "            t=t\n",
    "        )\n",
    "\n",
    "        # Calculate price\n",
    "        if option_type == 'C':\n",
    "            first_term = S * norm.cdf(d1)\n",
    "            second_term = K * math.exp(-r * t) * norm.cdf(d2)\n",
    "            value = first_term - second_term\n",
    "        elif option_type == 'P':\n",
    "            first_term = K * math.exp(-r * t) * norm.cdf(-d2)\n",
    "            second_term = S * norm.cdf(-d1)\n",
    "            value = first_term - second_term\n",
    "        else:\n",
    "            raise ValueError(\"Invalid option_type. Must be 'C' or 'P'\")\n",
    "\n",
    "        return value\n",
    "\n",
    "    def implied_vol(\n",
    "        self,\n",
    "        option_type: str,\n",
    "        option_price: float,\n",
    "        S: float,\n",
    "        K: float,\n",
    "        r: float,\n",
    "        t: float\n",
    "    ) -> float:\n",
    "        \"\"\"\n",
    "        Function to numerically solve for the implied volatility of an option using its price.\n",
    "        This is done by a minimization problem to minimize the difference between the price of \n",
    "        the option and the Black-Scholes price with implied vol as a variable.\n",
    "        \"\"\"\n",
    "        # Cost function (least squares diff between option price and BS price)\n",
    "        def cost_function(sigma):\n",
    "            bs_price = self.price( \n",
    "                option_type=option_type,\n",
    "                S=S,\n",
    "                K=K,\n",
    "                r=r,\n",
    "                sigma=sigma,\n",
    "                t=t\n",
    "            )\n",
    "            return (bs_price - option_price) ** 2\n",
    "\n",
    "        # Solve for implied vol\n",
    "        iv = minimize(\n",
    "            fun=cost_function, \n",
    "            x0=0.2, \n",
    "            bounds=[(0.000001, 1000)], \n",
    "            method='L-BFGS-B', \n",
    "            tol=1e-6\n",
    "        )\n",
    "        \n",
    "        return iv.x[0]\n",
    "    \n",
    "    ############################\n",
    "    # Greeks\n",
    "    ############################\n",
    "    \n",
    "    def delta(\n",
    "        self,\n",
    "        option_type,\n",
    "        S: float,\n",
    "        K: float,\n",
    "        r: float,\n",
    "        sigma: float,\n",
    "        t: float\n",
    "    ) -> float:\n",
    "        \"\"\"\n",
    "        Function to return the delta of an option derived from the Black-Scholes formula. \n",
    "        Delta measures the sensitivity of an option's price to a change in price of the underlying.\n",
    "        \"\"\"\n",
    "        # Calculate d1 and d2 (only need d1)\n",
    "        d1, d2 = self.d1_and_d2(\n",
    "            S=S,\n",
    "            K=K,\n",
    "            r=r,\n",
    "            sigma=sigma,\n",
    "            t=t\n",
    "        )\n",
    "\n",
    "        # Calculate delta\n",
    "        if option_type == 'C':\n",
    "            value = norm.cdf(d1)\n",
    "        elif option_type == 'P':\n",
    "            value = norm.cdf(d1) - 1\n",
    "        else:\n",
    "            raise ValueError(\"Invalid option_type. Must be 'C' or 'P'\")\n",
    "\n",
    "        return value\n",
    "    \n",
    "    def gamma(\n",
    "        self,\n",
    "        S: float,\n",
    "        K: float,\n",
    "        r: float,\n",
    "        sigma: float,\n",
    "        t: float\n",
    "    ) -> float:\n",
    "        \"\"\"\n",
    "        Function to return the gamma of an option derived from the Black-Scholes formula. \n",
    "        Gamma measures the sensitivity of an option's delta to a change in price of the underlying.\n",
    "        \"\"\"\n",
    "        # Calculate d1 and d2 (only need d1)\n",
    "        d1, d2 = self.d1_and_d2(\n",
    "            S=S,\n",
    "            K=K,\n",
    "            r=r,\n",
    "            sigma=sigma,\n",
    "            t=t\n",
    "        )\n",
    "\n",
    "        # Calculate gamma\n",
    "        value = norm.pdf(d1) / (S * sigma * math.sqrt(t))\n",
    "\n",
    "        return value\n",
    "    \n",
    "    def vega(\n",
    "        self,\n",
    "        S: float,\n",
    "        K: float,\n",
    "        r: float,\n",
    "        sigma: float,\n",
    "        t: float\n",
    "    ) -> float:\n",
    "        \"\"\"\n",
    "        Function to return the vega of an option derived from the Black-Scholes formula. \n",
    "        Vega measures the sensitivity of an option's price to a change in the volatility of the underlying.\n",
    "        \"\"\"\n",
    "        # Calculate d1 and d2 (only need d1)\n",
    "        d1, d2 = self.d1_and_d2(\n",
    "            S=S,\n",
    "            K=K,\n",
    "            r=r,\n",
    "            sigma=sigma,\n",
    "            t=t\n",
    "        )\n",
    "\n",
    "        # Calculate vega\n",
    "        value = S * norm.pdf(d1) * math.sqrt(t)\n",
    "\n",
    "        return value\n",
    "\n",
    "    def theta(\n",
    "        self,\n",
    "        option_type,\n",
    "        S: float,\n",
    "        K: float,\n",
    "        r: float,\n",
    "        sigma: float,\n",
    "        t: float\n",
    "    ) -> float:\n",
    "        \"\"\"\n",
    "        Function to return the theta of an option derived from the Black-Scholes formula. \n",
    "        Theta measures the sensitivity of an option's price to a change in the time to expiry.\n",
    "        \"\"\"\n",
    "        # Calculate d1 and d2\n",
    "        d1, d2 = self.d1_and_d2(\n",
    "            S=S,\n",
    "            K=K,\n",
    "            r=r,\n",
    "            sigma=sigma,\n",
    "            t=t\n",
    "        )\n",
    "\n",
    "        # Calculate terms needed for theta\n",
    "        first_term = S * norm.pdf(d1) * sigma / (2 * math.sqrt(t))\n",
    "        second_term_common_factor = r * K * math.exp(-r * t)\n",
    "        \n",
    "        # Calculate theta\n",
    "        if option_type == 'C':\n",
    "            value = -first_term - (second_term_common_factor * norm.cdf(d2)) \n",
    "        elif option_type == 'P':\n",
    "            value = -first_term + (second_term_common_factor * norm.cdf(-d2)) \n",
    "        else:\n",
    "            raise ValueError(\"Invalid option_type. Must be 'C' or 'P'\")\n",
    "\n",
    "        return value\n",
    "\n",
    "    def rho(\n",
    "        self,\n",
    "        option_type,\n",
    "        S: float,\n",
    "        K: float,\n",
    "        r: float,\n",
    "        sigma: float,\n",
    "        t: float\n",
    "    ) -> float:\n",
    "        \"\"\"\n",
    "        Function to return the rho of an option derived from the Black-Scholes formula. \n",
    "        Rho measures the sensitivity of an option's price to a change in the risk-free interest rate.\n",
    "        \"\"\"\n",
    "        # Calculate d1 and d2\n",
    "        d1, d2 = self.d1_and_d2(\n",
    "            S=S,\n",
    "            K=K,\n",
    "            r=r,\n",
    "            sigma=sigma,\n",
    "            t=t\n",
    "        )\n",
    "\n",
    "        # Calculate rho\n",
    "        if option_type == 'C':\n",
    "            value = K * t * math.exp(-r * t) * norm.cdf(d2)\n",
    "        elif option_type == 'P':\n",
    "            value = -K * t * math.exp(-r * t) * norm.cdf(-d2)\n",
    "        else:\n",
    "            raise ValueError(\"Invalid option_type. Must be 'C' or 'P'\")\n",
    "\n",
    "        return value\n",
    "\n",
    "    ############################\n",
    "    # Simulations\n",
    "    ############################\n",
    "\n",
    "    def simulate_gbm(\n",
    "        self, \n",
    "        n_steps: int,\n",
    "        S_0: float,\n",
    "        t: float,\n",
    "        mu: float,\n",
    "        sigma: float\n",
    "    ) -> np.ndarray:\n",
    "        \"\"\"\n",
    "        Function to simulate Geometric Brownian Motion of the underlying asset, returning the price path taken by the underlying asset as an array.\n",
    "        \"\"\"\n",
    "        # Calculate time increment\n",
    "        dt = t / n_steps\n",
    "        \n",
    "        # Initialise path array\n",
    "        path = np.zeros(n_steps + 1)\n",
    "        path[0] = S_0\n",
    "        \n",
    "        # Use discrete form of Geometric Brownian Motion SDE to generate the path\n",
    "        for step in range(1, n_steps + 1):\n",
    "            z = np.random.standard_normal()\n",
    "            path[step] = path[step - 1] * np.exp((mu - 0.5 * sigma ** 2) * dt + sigma * np.sqrt(dt) * z)\n",
    "        \n",
    "        return path\n"
   ]
  },
  {
   "cell_type": "code",
   "execution_count": 3,
   "id": "66ed3a43",
   "metadata": {
    "execution": {
     "iopub.execute_input": "2025-01-06T13:52:03.904700Z",
     "iopub.status.busy": "2025-01-06T13:52:03.904443Z",
     "iopub.status.idle": "2025-01-06T13:52:03.908257Z",
     "shell.execute_reply": "2025-01-06T13:52:03.907273Z"
    },
    "papermill": {
     "duration": 0.008757,
     "end_time": "2025-01-06T13:52:03.909552",
     "exception": false,
     "start_time": "2025-01-06T13:52:03.900795",
     "status": "completed"
    },
    "tags": []
   },
   "outputs": [],
   "source": [
    "option_type = 'C'\n",
    "S = 199\n",
    "K = 200\n",
    "r = 0.05\n",
    "sigma = 0.20\n",
    "t = 1"
   ]
  },
  {
   "cell_type": "code",
   "execution_count": 4,
   "id": "0dadb89c",
   "metadata": {
    "execution": {
     "iopub.execute_input": "2025-01-06T13:52:03.916095Z",
     "iopub.status.busy": "2025-01-06T13:52:03.915815Z",
     "iopub.status.idle": "2025-01-06T13:52:03.919364Z",
     "shell.execute_reply": "2025-01-06T13:52:03.918484Z"
    },
    "papermill": {
     "duration": 0.007933,
     "end_time": "2025-01-06T13:52:03.920518",
     "exception": false,
     "start_time": "2025-01-06T13:52:03.912585",
     "status": "completed"
    },
    "tags": []
   },
   "outputs": [],
   "source": [
    "bsm = BlackScholesModel()"
   ]
  },
  {
   "cell_type": "code",
   "execution_count": 5,
   "id": "372faf3d",
   "metadata": {
    "execution": {
     "iopub.execute_input": "2025-01-06T13:52:03.927273Z",
     "iopub.status.busy": "2025-01-06T13:52:03.926985Z",
     "iopub.status.idle": "2025-01-06T13:52:03.937167Z",
     "shell.execute_reply": "2025-01-06T13:52:03.936050Z"
    },
    "papermill": {
     "duration": 0.015177,
     "end_time": "2025-01-06T13:52:03.938800",
     "exception": false,
     "start_time": "2025-01-06T13:52:03.923623",
     "status": "completed"
    },
    "tags": []
   },
   "outputs": [
    {
     "data": {
      "text/plain": [
       "20.269048349878787"
      ]
     },
     "execution_count": 5,
     "metadata": {},
     "output_type": "execute_result"
    }
   ],
   "source": [
    "bsm.price(\n",
    "    option_type=option_type,\n",
    "    S=S,\n",
    "    K=K,\n",
    "    r=r,\n",
    "    sigma=sigma,\n",
    "    t=t\n",
    ")"
   ]
  },
  {
   "cell_type": "code",
   "execution_count": 6,
   "id": "2a1c5943",
   "metadata": {
    "execution": {
     "iopub.execute_input": "2025-01-06T13:52:03.945670Z",
     "iopub.status.busy": "2025-01-06T13:52:03.945398Z",
     "iopub.status.idle": "2025-01-06T13:52:03.950625Z",
     "shell.execute_reply": "2025-01-06T13:52:03.949820Z"
    },
    "papermill": {
     "duration": 0.010183,
     "end_time": "2025-01-06T13:52:03.952089",
     "exception": false,
     "start_time": "2025-01-06T13:52:03.941906",
     "status": "completed"
    },
    "tags": []
   },
   "outputs": [
    {
     "data": {
      "text/plain": [
       "0.6273857335376911"
      ]
     },
     "execution_count": 6,
     "metadata": {},
     "output_type": "execute_result"
    }
   ],
   "source": [
    "bsm.delta(\n",
    "    option_type=option_type,\n",
    "    S=S,\n",
    "    K=K,\n",
    "    r=r,\n",
    "    sigma=sigma,\n",
    "    t=t\n",
    ")"
   ]
  },
  {
   "cell_type": "code",
   "execution_count": 7,
   "id": "332262bf",
   "metadata": {
    "execution": {
     "iopub.execute_input": "2025-01-06T13:52:03.959296Z",
     "iopub.status.busy": "2025-01-06T13:52:03.958971Z",
     "iopub.status.idle": "2025-01-06T13:52:03.963725Z",
     "shell.execute_reply": "2025-01-06T13:52:03.963077Z"
    },
    "papermill": {
     "duration": 0.009653,
     "end_time": "2025-01-06T13:52:03.964988",
     "exception": false,
     "start_time": "2025-01-06T13:52:03.955335",
     "status": "completed"
    },
    "tags": []
   },
   "outputs": [
    {
     "data": {
      "text/plain": [
       "0.009508229739694011"
      ]
     },
     "execution_count": 7,
     "metadata": {},
     "output_type": "execute_result"
    }
   ],
   "source": [
    "bsm.gamma(\n",
    "    S=S,\n",
    "    K=K,\n",
    "    r=r,\n",
    "    sigma=sigma,\n",
    "    t=t\n",
    ")"
   ]
  },
  {
   "cell_type": "code",
   "execution_count": 8,
   "id": "fcf42483",
   "metadata": {
    "execution": {
     "iopub.execute_input": "2025-01-06T13:52:03.972226Z",
     "iopub.status.busy": "2025-01-06T13:52:03.971912Z",
     "iopub.status.idle": "2025-01-06T13:52:03.977324Z",
     "shell.execute_reply": "2025-01-06T13:52:03.976439Z"
    },
    "papermill": {
     "duration": 0.010191,
     "end_time": "2025-01-06T13:52:03.978466",
     "exception": false,
     "start_time": "2025-01-06T13:52:03.968275",
     "status": "completed"
    },
    "tags": []
   },
   "outputs": [
    {
     "data": {
      "text/plain": [
       "75.30708118432452"
      ]
     },
     "execution_count": 8,
     "metadata": {},
     "output_type": "execute_result"
    }
   ],
   "source": [
    "bsm.vega(\n",
    "    S=S,\n",
    "    K=K,\n",
    "    r=r,\n",
    "    sigma=sigma,\n",
    "    t=t\n",
    ")"
   ]
  },
  {
   "cell_type": "code",
   "execution_count": 9,
   "id": "77673fbf",
   "metadata": {
    "execution": {
     "iopub.execute_input": "2025-01-06T13:52:03.986165Z",
     "iopub.status.busy": "2025-01-06T13:52:03.985816Z",
     "iopub.status.idle": "2025-01-06T13:52:03.991216Z",
     "shell.execute_reply": "2025-01-06T13:52:03.990474Z"
    },
    "papermill": {
     "duration": 0.010701,
     "end_time": "2025-01-06T13:52:03.992493",
     "exception": false,
     "start_time": "2025-01-06T13:52:03.981792",
     "status": "completed"
    },
    "tags": []
   },
   "outputs": [
    {
     "data": {
      "text/plain": [
       "-12.75974374963854"
      ]
     },
     "execution_count": 9,
     "metadata": {},
     "output_type": "execute_result"
    }
   ],
   "source": [
    "bsm.theta(\n",
    "    option_type=option_type,\n",
    "    S=S,\n",
    "    K=K,\n",
    "    r=r,\n",
    "    sigma=sigma,\n",
    "    t=t\n",
    ")"
   ]
  },
  {
   "cell_type": "code",
   "execution_count": 10,
   "id": "f9746c09",
   "metadata": {
    "execution": {
     "iopub.execute_input": "2025-01-06T13:52:03.999851Z",
     "iopub.status.busy": "2025-01-06T13:52:03.999592Z",
     "iopub.status.idle": "2025-01-06T13:52:04.004948Z",
     "shell.execute_reply": "2025-01-06T13:52:04.004129Z"
    },
    "papermill": {
     "duration": 0.01035,
     "end_time": "2025-01-06T13:52:04.006116",
     "exception": false,
     "start_time": "2025-01-06T13:52:03.995766",
     "status": "completed"
    },
    "tags": []
   },
   "outputs": [
    {
     "data": {
      "text/plain": [
       "104.58071262412174"
      ]
     },
     "execution_count": 10,
     "metadata": {},
     "output_type": "execute_result"
    }
   ],
   "source": [
    "bsm.rho(\n",
    "    option_type=option_type,\n",
    "    S=S,\n",
    "    K=K,\n",
    "    r=r,\n",
    "    sigma=sigma,\n",
    "    t=t\n",
    ")"
   ]
  },
  {
   "cell_type": "code",
   "execution_count": 11,
   "id": "a00b1c57",
   "metadata": {
    "execution": {
     "iopub.execute_input": "2025-01-06T13:52:04.013642Z",
     "iopub.status.busy": "2025-01-06T13:52:04.013343Z",
     "iopub.status.idle": "2025-01-06T13:52:04.237046Z",
     "shell.execute_reply": "2025-01-06T13:52:04.236308Z"
    },
    "papermill": {
     "duration": 0.228833,
     "end_time": "2025-01-06T13:52:04.238229",
     "exception": false,
     "start_time": "2025-01-06T13:52:04.009396",
     "status": "completed"
    },
    "tags": []
   },
   "outputs": [
    {
     "data": {
      "text/plain": [
       "[<matplotlib.lines.Line2D at 0x7bb3ad7bd0c0>]"
      ]
     },
     "execution_count": 11,
     "metadata": {},
     "output_type": "execute_result"
    },
    {
     "data": {
      "image/png": "[encoded data removed]",
      "text/plain": [
       "<Figure size 640x480 with 1 Axes>"
      ]
     },
     "metadata": {},
     "output_type": "display_data"
    }
   ],
   "source": [
    "path = bsm.simulate_gbm(\n",
    "    n_steps=10000,\n",
    "    S_0=S,\n",
    "    t=t,\n",
    "    mu=r,\n",
    "    sigma=sigma\n",
    ")\n",
    "plt.plot(path)"
   ]
  },
  {
   "cell_type": "code",
   "execution_count": 12,
   "id": "103776e5",
   "metadata": {
    "execution": {
     "iopub.execute_input": "2025-01-06T13:52:04.247306Z",
     "iopub.status.busy": "2025-01-06T13:52:04.246981Z",
     "iopub.status.idle": "2025-01-06T13:52:04.260827Z",
     "shell.execute_reply": "2025-01-06T13:52:04.259722Z"
    },
    "papermill": {
     "duration": 0.019718,
     "end_time": "2025-01-06T13:52:04.262066",
     "exception": false,
     "start_time": "2025-01-06T13:52:04.242348",
     "status": "completed"
    },
    "tags": []
   },
   "outputs": [
    {
     "data": {
      "text/plain": [
       "0.19999935301574195"
      ]
     },
     "execution_count": 12,
     "metadata": {},
     "output_type": "execute_result"
    }
   ],
   "source": [
    "bsm.implied_vol(\n",
    "    option_type=option_type,\n",
    "    option_price=20.269,\n",
    "    S=S,\n",
    "    K=K,\n",
    "    r=r,\n",
    "    t=t\n",
    ")"
   ]
  },
  {
   "cell_type": "code",
   "execution_count": null,
   "id": "112aba64",
   "metadata": {
    "papermill": {
     "duration": 0.003395,
     "end_time": "2025-01-06T13:52:04.269519",
     "exception": false,
     "start_time": "2025-01-06T13:52:04.266124",
     "status": "completed"
    },
    "tags": []
   },
   "outputs": [],
   "source": []
  }
 ],
 "metadata": {
  "kaggle": {
   "accelerator": "none",
   "dataSources": [],
   "dockerImageVersionId": 30822,
   "isGpuEnabled": false,
   "isInternetEnabled": true,
   "language": "python",
   "sourceType": "notebook"
  },
  "kernelspec": {
   "display_name": "Python 3",
   "language": "python",
   "name": "python3"
  },
  "language_info": {
   "codemirror_mode": {
    "name": "ipython",
    "version": 3
   },
   "file_extension": ".py",
   "mimetype": "text/x-python",
   "name": "python",
   "nbconvert_exporter": "python",
   "pygments_lexer": "ipython3",
   "version": "3.10.12"
  },
  "papermill": {
   "default_parameters": {},
   "duration": 4.564912,
   "end_time": "2025-01-06T13:52:04.790981",
   "environment_variables": {},
   "exception": null,
   "input_path": "__notebook__.ipynb",
   "output_path": "__notebook__.ipynb",
   "parameters": {},
   "start_time": "2025-01-06T13:52:00.226069",
   "version": "2.6.0"
  }
 },
 "nbformat": 4,
 "nbformat_minor": 5
}
