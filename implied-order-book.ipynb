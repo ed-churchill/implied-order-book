{
 "cells": [
  {
   "cell_type": "markdown",
   "id": "c325e1aa",
   "metadata": {
    "papermill": {
     "duration": 0.004914,
     "end_time": "2024-11-25T16:26:21.490253",
     "exception": false,
     "start_time": "2024-11-25T16:26:21.485339",
     "status": "completed"
    },
    "tags": []
   },
   "source": [
    "# README\n",
    "\n",
    "The ultimate aim of this notebook is to construct a **naive** *implied order book* for SPX options (options on the S&P500). We will explain what this means in more detail. The data comes from the Chicago Board Options Exchange (CBOE). The data is delayed (hence why it's free!). Here's the link to the page where the data comes from. https://www.cboe.com/delayed_quotes/spx/quote_table\n",
    "\n",
    "When we make a call to the API we get back a table containing all option contracts on the S&P500 (one row per contract), with some info about the contract:\n",
    "* The ID tells us the expiry, whether it's a put or a call and the strike price.\n",
    "* The current bid and ask prices, as well as the bid and ask sizes\n",
    "* Implied Vol (need to work out whether this is from bid, ask, mid or something else - may need to write my own Black-Scholes function for this)\n",
    "* Open Interest (total number of open contracts)\n",
    "* Volume\n",
    "* The Greeks - delta, gamma, vega, theta, rho, theo\n",
    "* Some metrics about how the price has changed\n",
    "* Last traded time and last traded price. This can help to show liquidity.\n",
    "\n",
    "https://perfiliev.com/blog/how-to-calculate-gamma-exposure-and-zero-gamma-level/"
   ]
  },
  {
   "cell_type": "markdown",
   "id": "eeac9e1c",
   "metadata": {
    "papermill": {
     "duration": 0.003371,
     "end_time": "2024-11-25T16:26:21.497580",
     "exception": false,
     "start_time": "2024-11-25T16:26:21.494209",
     "status": "completed"
    },
    "tags": []
   },
   "source": [
    "# Imports"
   ]
  },
  {
   "cell_type": "code",
   "execution_count": 1,
   "id": "0964e05f",
   "metadata": {
    "_cell_guid": "b1076dfc-b9ad-4769-8c92-a6c4dae69d19",
    "_uuid": "8f2839f25d086af736a60e9eeb907d3b93b6e0e5",
    "execution": {
     "iopub.execute_input": "2024-11-25T16:26:21.506950Z",
     "iopub.status.busy": "2024-11-25T16:26:21.506520Z",
     "iopub.status.idle": "2024-11-25T16:26:22.475710Z",
     "shell.execute_reply": "2024-11-25T16:26:22.474858Z"
    },
    "papermill": {
     "duration": 0.976617,
     "end_time": "2024-11-25T16:26:22.478189",
     "exception": false,
     "start_time": "2024-11-25T16:26:21.501572",
     "status": "completed"
    },
    "tags": []
   },
   "outputs": [],
   "source": [
    "import requests\n",
    "import json\n",
    "import pandas as pd\n",
    "from datetime import datetime\n",
    "from datetime import timedelta\n",
    "import matplotlib.pyplot as plt\n",
    "import numpy as np"
   ]
  },
  {
   "cell_type": "markdown",
   "id": "1ba0c9d8",
   "metadata": {
    "papermill": {
     "duration": 0.003389,
     "end_time": "2024-11-25T16:26:22.485452",
     "exception": false,
     "start_time": "2024-11-25T16:26:22.482063",
     "status": "completed"
    },
    "tags": []
   },
   "source": [
    "# Helper Functions"
   ]
  },
  {
   "cell_type": "code",
   "execution_count": 2,
   "id": "d4d70eaf",
   "metadata": {
    "execution": {
     "iopub.execute_input": "2024-11-25T16:26:22.494381Z",
     "iopub.status.busy": "2024-11-25T16:26:22.493885Z",
     "iopub.status.idle": "2024-11-25T16:26:22.499525Z",
     "shell.execute_reply": "2024-11-25T16:26:22.498537Z"
    },
    "papermill": {
     "duration": 0.012679,
     "end_time": "2024-11-25T16:26:22.501721",
     "exception": false,
     "start_time": "2024-11-25T16:26:22.489042",
     "status": "completed"
    },
    "tags": []
   },
   "outputs": [],
   "source": [
    "def is_third_friday(d):\n",
    "    \"\"\"\n",
    "    Function to check if the provided date is the third friday of the month (monthly expiry)\n",
    "    \"\"\"\n",
    "    return d.weekday() == 4 and 15 <= d.day <= 21"
   ]
  },
  {
   "cell_type": "markdown",
   "id": "1a7580f4",
   "metadata": {
    "papermill": {
     "duration": 0.003325,
     "end_time": "2024-11-25T16:26:22.508816",
     "exception": false,
     "start_time": "2024-11-25T16:26:22.505491",
     "status": "completed"
    },
    "tags": []
   },
   "source": [
    "# Fetch Data"
   ]
  },
  {
   "cell_type": "code",
   "execution_count": 3,
   "id": "b4d6f6d8",
   "metadata": {
    "execution": {
     "iopub.execute_input": "2024-11-25T16:26:22.517335Z",
     "iopub.status.busy": "2024-11-25T16:26:22.517004Z",
     "iopub.status.idle": "2024-11-25T16:26:23.587476Z",
     "shell.execute_reply": "2024-11-25T16:26:23.586504Z"
    },
    "papermill": {
     "duration": 1.077541,
     "end_time": "2024-11-25T16:26:23.589881",
     "exception": false,
     "start_time": "2024-11-25T16:26:22.512340",
     "status": "completed"
    },
    "tags": []
   },
   "outputs": [],
   "source": [
    "# Symbol for SPX options\n",
    "symbol = '_SPX'\n",
    "\n",
    "# Start session\n",
    "s = requests.Session()\n",
    "\n",
    "# Make API call and check status code\n",
    "response = s.get(f'https://cdn.cboe.com/api/global/delayed_quotes/options/{symbol}.json')\n",
    "if response.status_code != 200:\n",
    "    raise Exception(f\"Unable to fetch data. Status code is {response.status_code}\")\n",
    "\n",
    "# Get data as json\n",
    "data = json.loads(response.content)\n",
    "\n",
    "# Close session\n",
    "s.close()"
   ]
  },
  {
   "cell_type": "code",
   "execution_count": 4,
   "id": "3745a229",
   "metadata": {
    "execution": {
     "iopub.execute_input": "2024-11-25T16:26:23.599381Z",
     "iopub.status.busy": "2024-11-25T16:26:23.598997Z",
     "iopub.status.idle": "2024-11-25T16:26:23.932612Z",
     "shell.execute_reply": "2024-11-25T16:26:23.931722Z"
    },
    "papermill": {
     "duration": 0.341168,
     "end_time": "2024-11-25T16:26:23.935087",
     "exception": false,
     "start_time": "2024-11-25T16:26:23.593919",
     "status": "completed"
    },
    "tags": []
   },
   "outputs": [],
   "source": [
    "# Get index price\n",
    "index_price = data['data']['current_price']\n",
    "\n",
    "# Get options data\n",
    "df = pd.DataFrame(\n",
    "    data=data['data']['options']\n",
    ")\n",
    "\n",
    "df['Index Price'] = index_price\n",
    "\n",
    "# Extract info from the ID column\n",
    "without_w = df['option'].str.replace(\"W\", \"\")\n",
    "df['Expiry'] = pd.to_datetime(without_w.str[3:9], format=\"%y%m%d\")\n",
    "df['Type'] = without_w.str[9]\n",
    "df['Strike'] = without_w.str[11:-3].astype(int)\n",
    "\n",
    "# Calculate moneyness\n",
    "df['Moneyness'] = (df['Index Price'] - df['Strike']) / df['Strike']\n",
    "\n",
    "# Order by expiry\n",
    "df = df.sort_values(by='Expiry').reset_index()\n",
    "\n",
    "# Calculate next expiry and next monthly expiry\n",
    "next_expiry = df['Expiry'][0] + timedelta(days=1)\n",
    "df['Next Expiry'] = [True if d == next_expiry else False for d in df['Expiry']]\n",
    "df['Monthly Expiry'] = [is_third_friday(d) for d in df['Expiry']]\n",
    "next_monthly_expiry = df.loc[df['Monthly Expiry'] == True]['Expiry'].min()\n",
    "\n",
    "# Calculate expiry bucket\n",
    "conditions = [df['Monthly Expiry'], df['Next Expiry']]\n",
    "choices = ['Next Monthly Expiry', 'Next Expiry']\n",
    "df['Expiry Bucket'] = np.select(conditions, choices, default='Other')"
   ]
  },
  {
   "cell_type": "markdown",
   "id": "6a707067",
   "metadata": {
    "papermill": {
     "duration": 0.003387,
     "end_time": "2024-11-25T16:26:23.942409",
     "exception": false,
     "start_time": "2024-11-25T16:26:23.939022",
     "status": "completed"
    },
    "tags": []
   },
   "source": [
    "# Check Open Interest of Expiry Types"
   ]
  },
  {
   "cell_type": "code",
   "execution_count": 5,
   "id": "f477e0b3",
   "metadata": {
    "execution": {
     "iopub.execute_input": "2024-11-25T16:26:23.952478Z",
     "iopub.status.busy": "2024-11-25T16:26:23.952077Z",
     "iopub.status.idle": "2024-11-25T16:26:23.969500Z",
     "shell.execute_reply": "2024-11-25T16:26:23.968247Z"
    },
    "papermill": {
     "duration": 0.025841,
     "end_time": "2024-11-25T16:26:23.971851",
     "exception": false,
     "start_time": "2024-11-25T16:26:23.946010",
     "status": "completed"
    },
    "tags": []
   },
   "outputs": [
    {
     "data": {
      "text/plain": [
       "Expiry Bucket\n",
       "Next Expiry              184321.0\n",
       "Next Monthly Expiry    15844352.0\n",
       "Other                   4476292.0\n",
       "Name: open_interest, dtype: float64"
      ]
     },
     "execution_count": 5,
     "metadata": {},
     "output_type": "execute_result"
    }
   ],
   "source": [
    "df.groupby('Expiry Bucket')['open_interest'].sum()"
   ]
  },
  {
   "cell_type": "markdown",
   "id": "7e451d3a",
   "metadata": {
    "papermill": {
     "duration": 0.003759,
     "end_time": "2024-11-25T16:26:23.979620",
     "exception": false,
     "start_time": "2024-11-25T16:26:23.975861",
     "status": "completed"
    },
    "tags": []
   },
   "source": [
    "# Gamma Exposure (GEX)\n",
    "We want to know, at each index level, how much gamma are the market makers sitting on, as this will give us a picture of how they must delta hedge. To do this, we need to know how many of each particular option the market makers hold AND whether they're long or short each option. We can know the first thing from open interest but for the second thing the data doesn't tell us whether they're long or short (they keep this secret of course!).\n",
    "\n",
    "So a naive assumption to start with is that the dealers are long calls and short puts, which on the whole index isn't an entirely terrible assumption. We could use actual trades data to construct a more accurate picture of whether they're long or short (based on where trades are being closed relative to the bid, mid, ask can tell you whether the trade is speculative or a hedge for example.). However, this comes at a big cost and isn't easy so for now we'll just assume that the dealers are long calls and short puts.\n",
    "\n",
    "Recall that long options have positive gamma and short options have negative gamma. So our assumption of long calls and short puts mean that in this case, calls carry positive gamma and puts negative.\n",
    "\n",
    "The first thing to do is calculate the dollar gamma contribution of each option. This gives the option's DOLLAR CHANGE IN DELTA per ONE POINT MOVE in the index. The formula is (negate for puts):\n",
    "\n",
    "    Option Gamma * Contract Size * Open Interest * Index Price\n",
    "    \n",
    "However, we actually want how much dollar delta changes per 1% MOVE IN THE INDEX, not 1 point. Since a 1% move corresponds to a point change of 0.01 * Index Price, we can simply multiply our first formula by this giving:\n",
    "\n",
    "    Option Gamma * Contract Size * Open Interest * (Index Price)^2 * 0.01\n",
    "\n",
    "Finally, we sum gamma contributions across all of the options to give us the total Gamma Exposure (GEX) of the dealers.\n",
    "\n",
    "* If GEX is positive, dealers are LONG GAMMA, so if the index moves up 1%, then delta also goes up so dealers need to SELL the underlying to delta hedge. If the index moves down 1%, then delta also goes down so dealers need to BUY the underlying to delta hedge.\n",
    "* If GEX is negative, dealers are SHORT GAMMA, so if the index moves up 1%, then delta goes down so dealers need to BUY the underlying to delta hedge. If the index moves down 1%, then delta goes up so dealers need to SELL the underlying to delta hedge."
   ]
  },
  {
   "cell_type": "code",
   "execution_count": 6,
   "id": "ee885dc5",
   "metadata": {
    "execution": {
     "iopub.execute_input": "2024-11-25T16:26:23.989029Z",
     "iopub.status.busy": "2024-11-25T16:26:23.988575Z",
     "iopub.status.idle": "2024-11-25T16:26:24.006537Z",
     "shell.execute_reply": "2024-11-25T16:26:24.005314Z"
    },
    "papermill": {
     "duration": 0.025201,
     "end_time": "2024-11-25T16:26:24.008726",
     "exception": false,
     "start_time": "2024-11-25T16:26:23.983525",
     "status": "completed"
    },
    "tags": []
   },
   "outputs": [
    {
     "name": "stdout",
     "output_type": "stream",
     "text": [
      "Spot GEX is 599,504,530.770436 (where spot means at the current index level)\n"
     ]
    }
   ],
   "source": [
    "# Calculate gamma contribution of each option at the current index level\n",
    "sign = df['Type'].apply(lambda x: 1 if x == 'C' else -1)\n",
    "df['gamma_contribution'] = sign * df['gamma'] * 0.01 * (df['Index Price'] ** 2)  * df['open_interest']\n",
    "\n",
    "# Calculate GEX\n",
    "gex = df['gamma_contribution'].sum()\n",
    "print(f\"Spot GEX is {gex:,} (where spot means at the current index level)\")"
   ]
  },
  {
   "cell_type": "code",
   "execution_count": 7,
   "id": "703982a1",
   "metadata": {
    "execution": {
     "iopub.execute_input": "2024-11-25T16:26:24.017872Z",
     "iopub.status.busy": "2024-11-25T16:26:24.017478Z",
     "iopub.status.idle": "2024-11-25T16:26:24.041029Z",
     "shell.execute_reply": "2024-11-25T16:26:24.039994Z"
    },
    "papermill": {
     "duration": 0.031067,
     "end_time": "2024-11-25T16:26:24.043687",
     "exception": false,
     "start_time": "2024-11-25T16:26:24.012620",
     "status": "completed"
    },
    "tags": []
   },
   "outputs": [],
   "source": [
    "# Get GEX for various strikes and expiries, as well as for calls and puts\n",
    "gex_surface = df.groupby(['Type', 'Strike', 'Expiry Bucket'])['gamma_contribution'].sum().unstack().fillna(0)\n",
    "gex_net_surface = df.groupby(['Strike', 'Expiry Bucket'])['gamma_contribution'].sum().unstack().fillna(0)\n",
    "\n",
    "# Variables for plots\n",
    "min_strike = 5000\n",
    "max_strike = 7000"
   ]
  },
  {
   "cell_type": "code",
   "execution_count": 8,
   "id": "6a8b9648",
   "metadata": {
    "execution": {
     "iopub.execute_input": "2024-11-25T16:26:24.054138Z",
     "iopub.status.busy": "2024-11-25T16:26:24.053533Z",
     "iopub.status.idle": "2024-11-25T16:26:29.856277Z",
     "shell.execute_reply": "2024-11-25T16:26:29.855107Z"
    },
    "papermill": {
     "duration": 5.810784,
     "end_time": "2024-11-25T16:26:29.858922",
     "exception": false,
     "start_time": "2024-11-25T16:26:24.048138",
     "status": "completed"
    },
    "tags": []
   },
   "outputs": [
    {
     "data": {
      "image/png": "[encoded data removed]",
      "text/plain": [
       "<Figure size 2000x800 with 2 Axes>"
      ]
     },
     "metadata": {},
     "output_type": "display_data"
    }
   ],
   "source": [
    "# Set up plot\n",
    "fig, (ax1, ax2) = plt.subplots(1, 2, figsize=(20, 8))\n",
    "\n",
    "# Plot GEX by strike for today's expiry, separating calls and puts\n",
    "gex_surface.loc[('C', slice(min_strike, max_strike)), :].plot(ax=ax1, kind='bar', stacked=True)\n",
    "gex_surface.loc[('P', slice(min_strike, max_strike)), :].plot(ax=ax1, kind='bar', stacked=True)\n",
    "ax1.set_title(f'Spot GEX by strike across all expiries, bucketed by expiry, separating calls and puts.')\n",
    "ax1.set_ylabel('GEX')\n",
    "xticks = ax1.get_xticks()\n",
    "ax1.set_xticks(xticks[::10])\n",
    "ax1.set_xticklabels(gex_net_surface.loc[min_strike:max_strike].index[::10], rotation=45, ha='right')\n",
    "handles, labels = ax1.get_legend_handles_labels()\n",
    "by_label = dict(zip(labels, handles))\n",
    "ax1.legend(by_label.values(), by_label.keys(), loc='upper left', bbox_to_anchor=(1.05, 1))\n",
    "\n",
    "# Plot GEX by strike for today's expiry, netting calls and puts\n",
    "gex_net_surface.loc[min_strike:max_strike].plot(ax=ax2, kind='bar', stacked=True)\n",
    "ax2.set_title(f'Spot GEX by strike across all expiries, bucketed by expiry.')\n",
    "ax2.set_ylabel('GEX')\n",
    "xticks = ax2.get_xticks()\n",
    "ax2.set_xticks(xticks[::10])\n",
    "ax2.set_xticklabels(gex_net_surface.loc[min_strike:max_strike].index[::10], rotation=45, ha='right')\n",
    "ax2.legend(loc='upper left', bbox_to_anchor=(1.05, 1))\n",
    "\n",
    "# Display\n",
    "plt.tight_layout()\n",
    "plt.show()"
   ]
  },
  {
   "cell_type": "markdown",
   "id": "125f962d",
   "metadata": {
    "papermill": {
     "duration": 0.004728,
     "end_time": "2024-11-25T16:26:29.868838",
     "exception": false,
     "start_time": "2024-11-25T16:26:29.864110",
     "status": "completed"
    },
    "tags": []
   },
   "source": [
    "What does this chart tell us? Let's look at the net chart on the right. Note there is some TURNING POINT where we go from net positive gamma to net negative gamma. We then look at where the index is trading, either in the positive gamma zone or the negative gamma zone.\n",
    "\n",
    "* If the index is trading in the positive gamma zone, we are in a **volatility stabilizing** market and dealers are supplying liquidity to the market since their hedging flows are always in the opposite direction to the way the market is moving. Why is this? Because dealers are long gamma. So:\n",
    "    * If the underlying market moves up, delta moves up, so dealers must sell the underlying, which pushes the price of the underlying back down and keeps it stable.\n",
    "    * If the underlying market moves down, delta moves down, so dealers must buy the underlying, which pushes the price of the underlying back up and keeps it stable.\n",
    "\n",
    "* If the index is trading in the negative gamma zone, we are in a **volatility destabilizing** market and dealers are taking liquidity from the market since their hedging flows are always in the same direction to the way the market is moving. Why is this? Because dealers are short gamma. So:\n",
    "    * If the underlying market moves up, delta moves down, so dealers must buy the underlying, which pushes the price of the underlying up even further, which is destabilising.\n",
    "    * If the underlying market moves down, delta moves up, so dealers must sell the underlying, which pushes the price of the underlying down even further, which is destabilising.\n"
   ]
  },
  {
   "cell_type": "code",
   "execution_count": 9,
   "id": "f76e1c40",
   "metadata": {
    "execution": {
     "iopub.execute_input": "2024-11-25T16:26:29.881078Z",
     "iopub.status.busy": "2024-11-25T16:26:29.880679Z",
     "iopub.status.idle": "2024-11-25T16:26:29.885930Z",
     "shell.execute_reply": "2024-11-25T16:26:29.884610Z"
    },
    "papermill": {
     "duration": 0.013878,
     "end_time": "2024-11-25T16:26:29.888116",
     "exception": false,
     "start_time": "2024-11-25T16:26:29.874238",
     "status": "completed"
    },
    "tags": []
   },
   "outputs": [],
   "source": [
    "# TODO: Where is index trading vs turning point\n",
    "# TODO: Solve today's expiry having zero gamma problem, maybe they're limiting what you can see\n",
    "# TODO: Make chart make more sense. Take out one of the buckets and then look at that bucket relative to the other two buckets as a proportion. Clarify with Avron if needed"
   ]
  },
  {
   "cell_type": "code",
   "execution_count": null,
   "id": "2801f785",
   "metadata": {
    "papermill": {
     "duration": 0.005063,
     "end_time": "2024-11-25T16:26:29.898609",
     "exception": false,
     "start_time": "2024-11-25T16:26:29.893546",
     "status": "completed"
    },
    "tags": []
   },
   "outputs": [],
   "source": []
  }
 ],
 "metadata": {
  "kaggle": {
   "accelerator": "none",
   "dataSources": [],
   "dockerImageVersionId": 30786,
   "isGpuEnabled": false,
   "isInternetEnabled": true,
   "language": "python",
   "sourceType": "notebook"
  },
  "kernelspec": {
   "display_name": "Python 3",
   "language": "python",
   "name": "python3"
  },
  "language_info": {
   "codemirror_mode": {
    "name": "ipython",
    "version": 3
   },
   "file_extension": ".py",
   "mimetype": "text/x-python",
   "name": "python",
   "nbconvert_exporter": "python",
   "pygments_lexer": "ipython3",
   "version": "3.10.14"
  },
  "papermill": {
   "default_parameters": {},
   "duration": 11.997284,
   "end_time": "2024-11-25T16:26:30.727617",
   "environment_variables": {},
   "exception": null,
   "input_path": "__notebook__.ipynb",
   "output_path": "__notebook__.ipynb",
   "parameters": {},
   "start_time": "2024-11-25T16:26:18.730333",
   "version": "2.6.0"
  }
 },
 "nbformat": 4,
 "nbformat_minor": 5
}
